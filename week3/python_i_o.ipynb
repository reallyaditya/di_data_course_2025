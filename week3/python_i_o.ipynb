{
 "cells": [
  {
   "cell_type": "code",
   "execution_count": null,
   "metadata": {},
   "outputs": [],
   "source": [
    "try:\n",
    "    f = open('/Users/aditya/Projects/dev_institute_2025/week3/datefile1.txt', mode='w', encoding='utf-8')\n",
    "    f.write('\\nThis is a new line')\n",
    "    f.write('\\nThis is text being appended to test.txt')\n",
    "    f.write('\\nAnd another line here.')\n",
    "    4 / 0\n",
    "except Exception as e:\n",
    "    print(f'Error: {e}')\n",
    "finally:\n",
    "    # Ensure the file is closed even if an error occurs\n",
    "    f.close()\n"
   ]
  },
  {
   "cell_type": "code",
   "execution_count": null,
   "metadata": {},
   "outputs": [],
   "source": [
    "with open('datefile2.txt', 'a') as f:\n",
    "    # The file is automatically closed after this block\n",
    "    f.write('\\nThis is a new line')\n",
    "    f.write('\\nThis is text being appended to test.txt')\n",
    "    f.write('\\nAnd another line here.')\n",
    "\n",
    "# The file is automatically closed after this block"
   ]
  },
  {
   "cell_type": "code",
   "execution_count": 6,
   "metadata": {},
   "outputs": [
    {
     "name": "stdout",
     "output_type": "stream",
     "text": [
      "\n",
      "\n",
      "This is a new line\n",
      "\n",
      "This is text being appended to test.txt\n",
      "\n",
      "And another line here.\n"
     ]
    }
   ],
   "source": [
    "with open('datefile1.txt', 'r') as f:\n",
    "    for line in f:\n",
    "        print(line)"
   ]
  },
  {
   "cell_type": "code",
   "execution_count": 3,
   "metadata": {},
   "outputs": [
    {
     "name": "stdout",
     "output_type": "stream",
     "text": [
      "Reading file line by line:\n",
      "Darth\n",
      "Luke\n",
      "Darth\n",
      "Lea\n",
      "Darth\n",
      "Lea\n",
      "Lea\n",
      "Luke\n",
      "Darth\n",
      "Lea\n",
      "Darth\n",
      "Darth\n",
      "Lea\n",
      "Lea\n",
      "Darth\n",
      "Lea\n",
      "Darth\n",
      "Lea\n",
      "Luke\n",
      "Darth\n",
      "Lea\n",
      "Lea\n",
      "Darth\n",
      "Lea\n",
      "Darth\n",
      "Darth\n",
      "Lea\n",
      "Lea\n",
      "Luke\n",
      "Luke\n",
      "Lea\n",
      "Darth\n",
      "Darth\n",
      "Luke\n",
      "Lea\n",
      "Darth\n",
      "Darth\n",
      "Lea\n",
      "Lea\n",
      "Lea\n",
      "Lea\n",
      "Lea\n",
      "Luke\n",
      "Darth\n",
      "Luke\n",
      "Lea\n",
      "Lea\n",
      "Lea\n",
      "Lea\n",
      "Luke\n",
      "Lea\n",
      "Darth\n",
      "Lea\n",
      "Lea\n",
      "Darth\n",
      "Lea\n",
      "Lea\n",
      "Darth\n",
      "Darth\n",
      "Lea\n",
      "Darth\n",
      "Lea\n",
      "Darth\n",
      "Luke\n",
      "Lea\n",
      "Luke\n",
      "Darth\n",
      "Darth\n",
      "Luke\n",
      "Darth\n",
      "Lea\n",
      "Darth\n",
      "Lea\n",
      "Luke\n",
      "Lea\n",
      "Lea\n",
      "Lea\n",
      "Lea\n",
      "Lea\n",
      "Darth\n",
      "Lea\n",
      "Lea\n",
      "Lea\n",
      "Lea\n",
      "Lea\n",
      "Lea\n",
      "Lea\n",
      "Luke\n",
      "Lea\n",
      "Lea\n",
      "Lea\n",
      "Lea\n",
      "Lea\n",
      "Lea\n",
      "Darth\n",
      "Luke\n",
      "Darth\n",
      "Lea\n",
      "Lea\n",
      "Darth\n"
     ]
    }
   ],
   "source": [
    "# 1. Read the file line by line\n",
    "print('Reading file line by line:')\n",
    "with open('/Users/aditya/Projects/dev_institute_2025/week3/nameslist.txt', 'r') as f:\n",
    "    for line in f:\n",
    "        print(line.strip())  # strip() removes the newline character"
   ]
  },
  {
   "cell_type": "code",
   "execution_count": 4,
   "metadata": {},
   "outputs": [
    {
     "name": "stdout",
     "output_type": "stream",
     "text": [
      "The 5th line is: Darth\n"
     ]
    }
   ],
   "source": [
    "# 2. Read only the 5th line of the file\n",
    "with open('/Users/aditya/Projects/dev_institute_2025/week3/nameslist.txt', 'r') as f:\n",
    "    lines = f.readlines()\n",
    "    if len(lines) >= 5:\n",
    "        print(f'The 5th line is: {lines[4].strip()}')\n",
    "    else:\n",
    "        print('The file has fewer than 5 lines.')"
   ]
  },
  {
   "cell_type": "code",
   "execution_count": 5,
   "metadata": {},
   "outputs": [
    {
     "name": "stdout",
     "output_type": "stream",
     "text": [
      "First 5 characters: Darth\n"
     ]
    }
   ],
   "source": [
    "# 3. Read only the 5 first characters of the file\n",
    "with open('/Users/aditya/Projects/dev_institute_2025/week3/nameslist.txt', 'r') as f:\n",
    "    first_five = f.read(5)\n",
    "    print(f'First 5 characters: {first_five}')"
   ]
  },
  {
   "cell_type": "code",
   "execution_count": 8,
   "metadata": {},
   "outputs": [
    {
     "name": "stdout",
     "output_type": "stream",
     "text": [
      "List of strings (first 5): ['Darth Vader', 'Luke', 'Darth', 'Lea', 'Darth']\n",
      "Split words (first 5): ['Darth', 'Vader', 'Luke', 'Darth', 'Lea']\n"
     ]
    }
   ],
   "source": [
    "# 4. Read all the file and return it as a list of strings. Then split each word\n",
    "with open('/Users/aditya/Projects/dev_institute_2025/week3/nameslist.txt', 'r') as f:\n",
    "    lines = f.readlines()\n",
    "    # Remove newline characters\n",
    "    lines = [line.strip() for line in lines]\n",
    "    print('List of strings (first 5):', lines[:5])\n",
    "\n",
    "    # Split each word (in this case, each line is already a single word)\n",
    "    # If there were multiple words per line, we would do:\n",
    "    words = []\n",
    "    for line in lines:\n",
    "        words.extend(line.split())\n",
    "    print('Split words (first 5):', words[:5])"
   ]
  },
  {
   "cell_type": "code",
   "execution_count": 9,
   "metadata": {},
   "outputs": [
    {
     "name": "stdout",
     "output_type": "stream",
     "text": [
      "Occurrences: Darth: 31, Luke: 15, Lea: 54\n"
     ]
    }
   ],
   "source": [
    "# 5. Find out how many occurrences of the names \"Darth\", \"Luke\" and \"Lea\" are in the file\n",
    "with open('/Users/aditya/Projects/dev_institute_2025/week3/nameslist.txt', 'r') as f:\n",
    "    content = f.read()\n",
    "    darth_count = content.count('Darth')\n",
    "    luke_count = content.count('Luke')\n",
    "    lea_count = content.count('Lea')\n",
    "\n",
    "    print(f'Occurrences: Darth: {darth_count}, Luke: {luke_count}, Lea: {lea_count}')"
   ]
  },
  {
   "cell_type": "code",
   "execution_count": 10,
   "metadata": {},
   "outputs": [
    {
     "name": "stdout",
     "output_type": "stream",
     "text": [
      "Name appended to the file.\n"
     ]
    }
   ],
   "source": [
    "# 6. Append your first name at the end of the file\n",
    "with open('/Users/aditya/Projects/dev_institute_2025/week3/nameslist.txt', 'a') as f:\n",
    "    f.write('\\nAditya')\n",
    "print('Name appended to the file.')"
   ]
  },
  {
   "cell_type": "code",
   "execution_count": 11,
   "metadata": {},
   "outputs": [
    {
     "name": "stdout",
     "output_type": "stream",
     "text": [
      "Added \"SkyWalker\" next to each \"Luke\"\n"
     ]
    }
   ],
   "source": [
    "# 7. Append \"SkyWalker\" next to each first name \"Luke\"\n",
    "# First, read all lines\n",
    "with open('/Users/aditya/Projects/dev_institute_2025/week3/nameslist.txt', 'r') as f:\n",
    "    lines = f.readlines()\n",
    "\n",
    "# Modify the lines containing \"Luke\"\n",
    "modified_lines = []\n",
    "for line in lines:\n",
    "    if line.strip() == 'Luke':\n",
    "        modified_lines.append('Luke SkyWalker\\n')\n",
    "    else:\n",
    "        modified_lines.append(line)\n",
    "\n",
    "# Write the modified content back to the file\n",
    "with open('/Users/aditya/Projects/dev_institute_2025/week3/nameslist.txt', 'w') as f:\n",
    "    f.writelines(modified_lines)\n",
    "\n",
    "print('Added \"SkyWalker\" next to each \"Luke\"')"
   ]
  },
  {
   "cell_type": "code",
   "execution_count": 45,
   "metadata": {},
   "outputs": [],
   "source": [
    "test_dict = {\n",
    "    \"firstName\": \"Jane\",\n",
    "    \"lastName\": \"Doe\",\n",
    "    \"hobbies\": [\"running\", \"sky diving\", \"singing\"],\n",
    "    \"age\": 35,\n",
    "    \"children\": [\n",
    "        {\n",
    "            \"firstName\": \"Alice\",\n",
    "            \"age\": 6\n",
    "        },\n",
    "        {\n",
    "            \"firstName\": \"Bob\",\n",
    "            \"age\": 8\n",
    "        }\n",
    "    ]\n",
    "}"
   ]
  },
  {
   "cell_type": "code",
   "execution_count": 43,
   "metadata": {},
   "outputs": [
    {
     "data": {
      "text/plain": [
       "{'firstName': 'Jane',\n",
       " 'lastName': 'Doe',\n",
       " 'hobbies': ['running', 'sky diving', 'singing'],\n",
       " 'age': 35,\n",
       " 'children': [{'firstName': 'Alice', 'age': 6},\n",
       "  {'firstName': 'Bob', 'age': 8}]}"
      ]
     },
     "execution_count": 43,
     "metadata": {},
     "output_type": "execute_result"
    }
   ],
   "source": [
    "json_data = json.loads(test_dict)\n",
    "json_data"
   ]
  },
  {
   "cell_type": "code",
   "execution_count": 22,
   "metadata": {},
   "outputs": [
    {
     "name": "stdout",
     "output_type": "stream",
     "text": [
      "<class 'bytes'>\n",
      "b'{\\n    \"firstName\": \"Jane\",\\n    \"lastName\": \"Doe\",\\n    \"hobbies\": [\\n        \"running\",\\n        \"sky diving\",\\n        \"singing\"\\n    ],\\n    \"age\": 35,\\n    \"children\": [\\n        {\\n            \"firstName\": \"Alice\",\\n            \"age\": 6\\n        },\\n        {\\n            \"firstName\": \"Bob\",\\n            \"age\": 8\\n        }\\n    ]\\n}'\n"
     ]
    }
   ],
   "source": [
    "with open(\"test.json\", \"rb\") as f:\n",
    "    json_data = f.read()\n",
    "\n",
    "print(type(json_data))\n",
    "print(json_data)"
   ]
  },
  {
   "cell_type": "code",
   "execution_count": 34,
   "metadata": {},
   "outputs": [
    {
     "name": "stdout",
     "output_type": "stream",
     "text": [
      "<class 'dict'>\n",
      "{'firstName': 'Jane', 'lastName': 'Doe', 'hobbies': ['running', 'sky diving', 'singing'], 'age': 35, 'children': [{'firstName': 'Alice', 'age': 6}, {'firstName': 'Bob', 'age': 8}]}\n"
     ]
    },
    {
     "data": {
      "text/plain": [
       "True"
      ]
     },
     "execution_count": 34,
     "metadata": {},
     "output_type": "execute_result"
    }
   ],
   "source": [
    "import json\n",
    "\n",
    "\n",
    "with open(\"test.json\", \"r\") as f:\n",
    "    json_data = json.load(f)\n",
    "\n",
    "print(type(json_data))\n",
    "print(json_data)\n",
    "\n",
    "test_dict == json_data"
   ]
  },
  {
   "cell_type": "code",
   "execution_count": 46,
   "metadata": {},
   "outputs": [
    {
     "data": {
      "text/plain": [
       "{'firstName': 'Jane',\n",
       " 'lastName': 'Doe',\n",
       " 'hobbies': ['running', 'sky diving', 'singing'],\n",
       " 'age': 35,\n",
       " 'children': [{'firstName': 'Alice', 'age': 6},\n",
       "  {'firstName': 'Bob', 'age': 8}]}"
      ]
     },
     "execution_count": 46,
     "metadata": {},
     "output_type": "execute_result"
    }
   ],
   "source": [
    "test_dict"
   ]
  },
  {
   "cell_type": "code",
   "execution_count": 50,
   "metadata": {},
   "outputs": [
    {
     "name": "stdout",
     "output_type": "stream",
     "text": [
      "<class 'str'>\n",
      "{\"firstName\": \"Jane\", \"lastName\": \"Doe\", \"hobbies\": [\"running\", \"sky diving\", \"singing\"], \"age\": 35, \"children\": [{\"firstName\": \"Alice\", \"age\": 6}, {\"firstName\": \"Bob\", \"age\": 8}]}\n"
     ]
    }
   ],
   "source": [
    "json_string = json.dumps(test_dict)\n",
    "print(type(json_string))\n",
    "print(json_string)\n",
    "with open(\"write_json.json\", \"w\") as f:\n",
    "    f.write(json_string)"
   ]
  },
  {
   "cell_type": "code",
   "execution_count": 37,
   "metadata": {},
   "outputs": [
    {
     "name": "stdout",
     "output_type": "stream",
     "text": [
      "{'name': 'Alice', 'age': 30}\n"
     ]
    }
   ],
   "source": [
    "json_str = '{\"name\": \"Alice\", \"age\": 30}'\n",
    "\n",
    "json_dict = json.loads(json_str)\n",
    "\n",
    "print(json_dict)"
   ]
  }
 ],
 "metadata": {
  "kernelspec": {
   "display_name": ".venv",
   "language": "python",
   "name": "python3"
  },
  "language_info": {
   "codemirror_mode": {
    "name": "ipython",
    "version": 3
   },
   "file_extension": ".py",
   "mimetype": "text/x-python",
   "name": "python",
   "nbconvert_exporter": "python",
   "pygments_lexer": "ipython3",
   "version": "3.11.6"
  }
 },
 "nbformat": 4,
 "nbformat_minor": 2
}
