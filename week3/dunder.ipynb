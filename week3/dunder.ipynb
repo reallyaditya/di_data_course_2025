{
 "cells": [
  {
   "cell_type": "code",
   "execution_count": 3,
   "metadata": {},
   "outputs": [
    {
     "name": "stdout",
     "output_type": "stream",
     "text": [
      "A new dog has been initialized !\n",
      "His name is Rex\n",
      "A new dog has been initialized !\n",
      "His name is Bernie V\n",
      "Curently, there are 2 dogs\n"
     ]
    }
   ],
   "source": [
    "class Dog():\n",
    "    number_of_dogs = 0\n",
    "    dogs_king = \"Bernie IV\"\n",
    "\n",
    "    # Initializer / Instance Attributes\n",
    "    def __init__(self, name_of_the_dog):\n",
    "        print(\"A new dog has been initialized !\")\n",
    "        print(\"His name is\", name_of_the_dog)\n",
    "        self.name = name_of_the_dog\n",
    "        # Increment the number of dogs\n",
    "        Dog.number_of_dogs += 1\n",
    "\n",
    "    def bark(self):\n",
    "        print(f\"{self.name} barks ! WAF\")\n",
    "\n",
    "    def walk(self, number_of_meters):\n",
    "        print(f\"{self.name} walked {number_of_meters} meters\")\n",
    "\n",
    "    def rename(self, new_name):\n",
    "        self.name = new_name\n",
    "\n",
    "my_dog = Dog(\"Rex\")\n",
    "my_dog2 = Dog(\"Bernie V\")\n",
    "print(f\"Curently, there are {Dog.number_of_dogs} dogs\")"
   ]
  },
  {
   "cell_type": "code",
   "execution_count": 2,
   "metadata": {},
   "outputs": [
    {
     "name": "stdout",
     "output_type": "stream",
     "text": [
      "The king of the dogs is: Bernie IV\n"
     ]
    }
   ],
   "source": [
    "print(\"The king of the dogs is:\", Dog.dogs_king)"
   ]
  },
  {
   "cell_type": "code",
   "execution_count": 5,
   "metadata": {},
   "outputs": [
    {
     "name": "stdout",
     "output_type": "stream",
     "text": [
      "red\n",
      "red\n",
      "red\n",
      "6\n"
     ]
    }
   ],
   "source": [
    "class Circle:\n",
    "    color = \"red\"\n",
    "\n",
    "    def __init__(self, diameter):\n",
    "        self.diameter = diameter\n",
    "\n",
    "    def grow(self, factor=2):\n",
    "        self.diameter = self.diameter * factor\n",
    "\n",
    "    def get_color(self):\n",
    "       return Circle.color\n",
    "\n",
    "circle1 = Circle(2)\n",
    "print(circle1.color)\n",
    "print(Circle.color)\n",
    "print(circle1.get_color())\n",
    "circle1.grow(3)\n",
    "print(circle1.diameter)"
   ]
  },
  {
   "cell_type": "code",
   "execution_count": 5,
   "metadata": {},
   "outputs": [],
   "source": [
    "class Person:\n",
    "    def __init__(self, name, age):\n",
    "        self.name = name\n",
    "        self.age = age\n",
    "\n",
    "    def get_name(self):\n",
    "        return self.name\n",
    "\n",
    "    def get_age(self):\n",
    "        return self.age\n",
    "\n",
    "    def get_nicknames(self):\n",
    "        return [\"Buddy\", \"Pal\", \"Mate\"]\n",
    "\n",
    "class Man(Person):\n",
    "    sex = \"Male\"\n",
    "\n",
    "    @staticmethod\n",
    "    def get_nicknames():\n",
    "        return [\"Bro\", \"Dude\", \"Buddy\"]"
   ]
  },
  {
   "cell_type": "code",
   "execution_count": 9,
   "metadata": {},
   "outputs": [
    {
     "name": "stdout",
     "output_type": "stream",
     "text": [
      "Joe\n",
      "30\n",
      "['Bro', 'Dude', 'Buddy']\n"
     ]
    }
   ],
   "source": [
    "joe = Man(\"Joe\", 30)\n",
    "print(joe.get_name())\n",
    "print(joe.get_age())\n",
    "print(Man.get_nicknames())"
   ]
  },
  {
   "cell_type": "code",
   "execution_count": 3,
   "metadata": {},
   "outputs": [],
   "source": [
    "class MyClass:\n",
    "  __counter = 0\n",
    "\n",
    "  @classmethod\n",
    "  def add(cls, a):\n",
    "    return cls.__counter + a"
   ]
  },
  {
   "cell_type": "code",
   "execution_count": 7,
   "metadata": {},
   "outputs": [
    {
     "name": "stdout",
     "output_type": "stream",
     "text": [
      "3\n",
      "2\n"
     ]
    }
   ],
   "source": [
    "my_class_add = MyClass.add(3)\n",
    "print(my_class_add)\n",
    "\n",
    "\n",
    "new_class = MyClass()\n",
    "new_class.__counter = 1\n",
    "\n",
    "print(new_class.add(2))"
   ]
  },
  {
   "cell_type": "code",
   "execution_count": null,
   "metadata": {},
   "outputs": [],
   "source": [
    "class MyClass:\n",
    "  def __init__(self, first_name, last_name):\n",
    "    self.__first_name = first_name\n",
    "    self.__last_name = last_name\n",
    "\n",
    "  @property\n",
    "  def email(self):\n",
    "    return f\"{self.__first_name}.{self.__last_name}@gmail.com\""
   ]
  },
  {
   "cell_type": "code",
   "execution_count": 10,
   "metadata": {},
   "outputs": [
    {
     "name": "stdout",
     "output_type": "stream",
     "text": [
      "Joe.Smith@gmail.com\n"
     ]
    }
   ],
   "source": [
    "joe = MyClass(\"Joe\", \"Smith\")\n",
    "print(joe.email)"
   ]
  },
  {
   "cell_type": "code",
   "execution_count": 11,
   "metadata": {},
   "outputs": [],
   "source": [
    "class MyClass:\n",
    "  def __init__(self, first_name, last_name):\n",
    "    self.__first_name = first_name\n",
    "    self.__last_name = last_name\n",
    "\n",
    "  @property\n",
    "  def email(self): \n",
    "    return f\"{self.__first_name}.{self.__last_name}@gmail.com\"\n",
    "\n",
    "  @email.setter\n",
    "  def email(self, name): \n",
    "    self.__first_name = name"
   ]
  },
  {
   "cell_type": "code",
   "execution_count": 13,
   "metadata": {},
   "outputs": [
    {
     "name": "stdout",
     "output_type": "stream",
     "text": [
      "John.Smith@gmail.com\n"
     ]
    }
   ],
   "source": [
    "joe = MyClass(\"Joe\", \"Smith\")\n",
    "joe.email = \"John\"\n",
    "print(joe.email)"
   ]
  },
  {
   "cell_type": "code",
   "execution_count": 14,
   "metadata": {},
   "outputs": [
    {
     "name": "stdout",
     "output_type": "stream",
     "text": [
      "John.Smith@gmail.com\n"
     ]
    }
   ],
   "source": [
    "joe.__first_name = \"Joe\"\n",
    "print(joe.email)"
   ]
  },
  {
   "cell_type": "code",
   "execution_count": 1,
   "metadata": {},
   "outputs": [],
   "source": [
    "class Person:\n",
    "\n",
    "    used_names = set()\n",
    "\n",
    "    def __init__(self, name, age):\n",
    "        if name in self.used_names:\n",
    "            name = input(\"That name is taken. Enter another name: \")\n",
    "\n",
    "        self.name = name\n",
    "        self.age = age\n",
    "        self.used_names.add(name)\n",
    "\n",
    "    @classmethod\n",
    "    def fromYear(cls, name, birth_year):\n",
    "        THIS_YEAR = 2020\n",
    "        return cls(name, THIS_YEAR - birth_year)\n",
    "\n",
    "    @property\n",
    "    def professional_name(self):\n",
    "        return \"Mr \" + self.name"
   ]
  },
  {
   "cell_type": "code",
   "execution_count": 2,
   "metadata": {},
   "outputs": [],
   "source": [
    "joe = Person(\"Joe\", 30)"
   ]
  },
  {
   "cell_type": "code",
   "execution_count": 3,
   "metadata": {},
   "outputs": [],
   "source": [
    "joe2 = Person(\"Joe\", 30)"
   ]
  },
  {
   "cell_type": "code",
   "execution_count": 4,
   "metadata": {},
   "outputs": [
    {
     "data": {
      "text/plain": [
       "{'Joe', 'john'}"
      ]
     },
     "execution_count": 4,
     "metadata": {},
     "output_type": "execute_result"
    }
   ],
   "source": [
    "joe2.used_names"
   ]
  },
  {
   "cell_type": "code",
   "execution_count": 5,
   "metadata": {},
   "outputs": [],
   "source": [
    "jane = Person.fromYear(\"Jane\", 1990)"
   ]
  },
  {
   "cell_type": "code",
   "execution_count": 7,
   "metadata": {},
   "outputs": [
    {
     "data": {
      "text/plain": [
       "'Mr Jane'"
      ]
     },
     "execution_count": 7,
     "metadata": {},
     "output_type": "execute_result"
    }
   ],
   "source": [
    "jane.professional_name"
   ]
  },
  {
   "cell_type": "code",
   "execution_count": 8,
   "metadata": {},
   "outputs": [
    {
     "name": "stdout",
     "output_type": "stream",
     "text": [
      "\n",
      "Value of object : 10\n",
      "1\n",
      "\n",
      "Value of object : 20\n",
      "2\n"
     ]
    }
   ],
   "source": [
    "class MyClass:\n",
    "    # Class attribute to keep track of the number of instances created\n",
    "    count = 0\n",
    "\n",
    "    def __init__(self, val):\n",
    "        # Instance attribute to store the value of the object\n",
    "        self.val = val\n",
    "        # Increment the class-level count whenever a new instance is created\n",
    "        MyClass.count += 1\n",
    "\n",
    "    def set_val(self, newval):\n",
    "        # Method to update the value of the object\n",
    "        self.val = newval\n",
    "\n",
    "    def get_val(self):\n",
    "        # Method to retrieve the value of the object\n",
    "        return self.val\n",
    "\n",
    "    @classmethod\n",
    "    def get_count(cls):\n",
    "        # Class method to retrieve the total number of instances created\n",
    "        return cls.count\n",
    "\n",
    "# Create the first instance of MyClass with a value of 10\n",
    "object_1 = MyClass(10)\n",
    "# Print the value of the first object using the get_val method\n",
    "print(\"\\nValue of object : %s\" % object_1.get_val())\n",
    "# Print the total number of instances created so far using the get_count method\n",
    "print(MyClass.get_count())\n",
    "\n",
    "# Create the second instance of MyClass with a value of 20\n",
    "object_2 = MyClass(20)\n",
    "# Print the value of the second object using the get_val method\n",
    "print(\"\\nValue of object : %s\" % object_2.get_val())\n",
    "# Print the updated total number of instances created\n",
    "print(MyClass.get_count())"
   ]
  },
  {
   "cell_type": "code",
   "execution_count": 10,
   "metadata": {},
   "outputs": [
    {
     "name": "stdout",
     "output_type": "stream",
     "text": [
      "5\n",
      "10\n",
      "15\n",
      "Entered value is not an INT, value set to 0\n",
      "0\n"
     ]
    }
   ],
   "source": [
    "class MyClass(object):\n",
    "    # Class attribute to keep track of the number of instances created\n",
    "    count = 0\n",
    "\n",
    "    def __init__(self, val):\n",
    "        # Initialize the object with a filtered integer value\n",
    "        # The filterint method ensures the value is an integer, otherwise sets it to 0\n",
    "        self.val = self.filterint(val)\n",
    "        # Increment the class-level count whenever a new instance is created\n",
    "        MyClass.count += 1\n",
    "\n",
    "    @staticmethod\n",
    "    def filterint(value):\n",
    "        # Static method to validate if the input is an integer\n",
    "        # If not an integer, print a message and return 0\n",
    "        if not isinstance(value, int):\n",
    "            print(\"Entered value is not an INT, value set to 0\")\n",
    "            return 0\n",
    "        else:\n",
    "            # If the value is an integer, return it as is\n",
    "            return value\n",
    "\n",
    "# Create three instances of MyClass with different integer values\n",
    "a = MyClass(5)\n",
    "b = MyClass(10)\n",
    "c = MyClass(15)\n",
    "\n",
    "# Print the filtered integer values of each instance\n",
    "print(a.val)  # Output: 5\n",
    "print(b.val)  # Output: 10\n",
    "print(c.val)  # Output: 15\n",
    "\n",
    "# Demonstrate the use of the static method filterint\n",
    "# This will return 100 since it is a valid integer\n",
    "print(a.filterint(\"100\"))"
   ]
  },
  {
   "cell_type": "code",
   "execution_count": 17,
   "metadata": {},
   "outputs": [
    {
     "name": "stdout",
     "output_type": "stream",
     "text": [
      "[1, 3, 5]\n"
     ]
    }
   ],
   "source": [
    "mylist = [1, 3, 5]\n",
    "print(mylist.__str__())"
   ]
  },
  {
   "cell_type": "code",
   "execution_count": 20,
   "metadata": {},
   "outputs": [
    {
     "data": {
      "text/plain": [
       "3"
      ]
     },
     "execution_count": 20,
     "metadata": {},
     "output_type": "execute_result"
    }
   ],
   "source": [
    "(mylist.__len__())"
   ]
  },
  {
   "cell_type": "code",
   "execution_count": 1,
   "metadata": {},
   "outputs": [],
   "source": [
    "class Person:\n",
    "    def __init__(self, name, age):\n",
    "        self.name = name\n",
    "        self.age = age\n",
    "\n",
    "    def get_attributes(self):\n",
    "        print (f\"Person: {self.name}, Age: {self.age}\")"
   ]
  },
  {
   "cell_type": "code",
   "execution_count": 2,
   "metadata": {},
   "outputs": [],
   "source": [
    "joe = Person(\"Joe\", 30)"
   ]
  },
  {
   "cell_type": "code",
   "execution_count": 3,
   "metadata": {},
   "outputs": [
    {
     "name": "stdout",
     "output_type": "stream",
     "text": [
      "Person: Joe, Age: 30\n"
     ]
    }
   ],
   "source": [
    "joe.get_attributes()"
   ]
  },
  {
   "cell_type": "code",
   "execution_count": 5,
   "metadata": {},
   "outputs": [],
   "source": [
    "class Person:\n",
    "  def __init__(self, name, age):\n",
    "      self.name = name\n",
    "      self.age  = age\n",
    "\n",
    "  def __repr__(self):\n",
    "      return f\"{self.__class__.__name__} : {self.name} {self.age}\""
   ]
  },
  {
   "cell_type": "code",
   "execution_count": 7,
   "metadata": {},
   "outputs": [
    {
     "name": "stdout",
     "output_type": "stream",
     "text": [
      "<__main__.Person object at 0x10638eb90>\n"
     ]
    }
   ],
   "source": [
    "print(joe)"
   ]
  },
  {
   "cell_type": "code",
   "execution_count": 6,
   "metadata": {},
   "outputs": [
    {
     "name": "stdout",
     "output_type": "stream",
     "text": [
      "Person : Jane 25\n"
     ]
    }
   ],
   "source": [
    "jane = Person(\"Jane\", 25)\n",
    "print(jane)"
   ]
  },
  {
   "cell_type": "code",
   "execution_count": 1,
   "metadata": {},
   "outputs": [],
   "source": [
    "class Person:\n",
    "  def __init__(self, name, lastName):\n",
    "      self.name = name\n",
    "      self.lastName = lastName\n",
    "\n",
    "  def __repr__(self):\n",
    "      return f\"{self.__class__.__name__} : {self.name} {self.lastName}\"\n",
    "\n",
    "  def __add__(self, other):\n",
    "      return Person(self.name, other.lastName)"
   ]
  },
  {
   "cell_type": "code",
   "execution_count": 2,
   "metadata": {},
   "outputs": [],
   "source": [
    "father = Person('John', 'Snow')\n",
    "mother = Person('Kaleesi', 'MotherOfDragons')"
   ]
  },
  {
   "cell_type": "code",
   "execution_count": 3,
   "metadata": {},
   "outputs": [],
   "source": [
    "dragonChild = father + mother"
   ]
  },
  {
   "cell_type": "code",
   "execution_count": 4,
   "metadata": {},
   "outputs": [
    {
     "data": {
      "text/plain": [
       "Person : John MotherOfDragons"
      ]
     },
     "execution_count": 4,
     "metadata": {},
     "output_type": "execute_result"
    }
   ],
   "source": [
    "dragonChild"
   ]
  },
  {
   "cell_type": "code",
   "execution_count": null,
   "metadata": {},
   "outputs": [
    {
     "data": {
      "text/plain": [
       "['__add__',\n",
       " '__class__',\n",
       " '__delattr__',\n",
       " '__dict__',\n",
       " '__dir__',\n",
       " '__doc__',\n",
       " '__eq__',\n",
       " '__format__',\n",
       " '__ge__',\n",
       " '__getattribute__',\n",
       " '__getstate__',\n",
       " '__gt__',\n",
       " '__hash__',\n",
       " '__init__',\n",
       " '__init_subclass__',\n",
       " '__le__',\n",
       " '__lt__',\n",
       " '__module__',\n",
       " '__ne__',\n",
       " '__new__',\n",
       " '__reduce__',\n",
       " '__reduce_ex__',\n",
       " '__repr__',\n",
       " '__setattr__',\n",
       " '__sizeof__',\n",
       " '__str__',\n",
       " '__subclasshook__',\n",
       " '__weakref__']"
      ]
     },
     "execution_count": 6,
     "metadata": {},
     "output_type": "execute_result"
    }
   ],
   "source": [
    "joe > jane"
   ]
  },
  {
   "cell_type": "code",
   "execution_count": 2,
   "metadata": {},
   "outputs": [
    {
     "name": "stdout",
     "output_type": "stream",
     "text": [
      "['a', 'b', 'c']\n"
     ]
    }
   ],
   "source": [
    "class PrintList(object):\n",
    "\n",
    "    def __init__(self, my_list):\n",
    "        self.mylist = my_list\n",
    "\n",
    "    def __repr__(self):\n",
    "        return str(self.mylist)\n",
    "\n",
    "\n",
    "printlist = PrintList([\"a\", \"b\", \"c\"])\n",
    "print(printlist.__repr__())"
   ]
  },
  {
   "cell_type": "code",
   "execution_count": 8,
   "metadata": {},
   "outputs": [
    {
     "name": "stdout",
     "output_type": "stream",
     "text": [
      "3\n"
     ]
    }
   ],
   "source": [
    "from math import floor as fl\n",
    "\n",
    "print(fl(3.14))"
   ]
  },
  {
   "cell_type": "code",
   "execution_count": 14,
   "metadata": {},
   "outputs": [],
   "source": [
    "from faker import Faker\n",
    "fake = Faker()\n",
    "\n",
    "def create_file(num):\n",
    "    f = open(\"datefile\" + num + \".txt\", \"w\")\n",
    "    for _ in range(100):\n",
    "        f.write(f\"{fake.date()}\\n\")\n",
    "    f.close()\n",
    "\n",
    "create_file('1')\n",
    "create_file('2')"
   ]
  },
  {
   "cell_type": "code",
   "execution_count": null,
   "metadata": {},
   "outputs": [],
   "source": [
    "import os\n",
    "\n",
    "defalut_path = os.getcwd()\n",
    "file_name = \"datefile1.txt\""
   ]
  },
  {
   "cell_type": "code",
   "execution_count": 39,
   "metadata": {},
   "outputs": [],
   "source": [
    "import os\n",
    "\n",
    "# Base path where the directories will be created\n",
    "base_path = os.path.join(defalut_path, \"test\")\n",
    "\n",
    "# Loop to create week directories\n",
    "for week in range(1, 6):\n",
    "    week_dir = os.path.join(base_path, f\"week{week}\")\n",
    "    os.makedirs(week_dir, exist_ok=True)\n",
    "\n",
    "    # Loop to create day directories inside each week directory\n",
    "    for day in range(1, 6):\n",
    "        day_dir = os.path.join(week_dir, f\"day{day}\")\n",
    "        os.makedirs(day_dir, exist_ok=True)\n",
    "\n",
    "        # Create lesson and homework directories inside each day directory\n",
    "        os.makedirs(os.path.join(day_dir, \"lesson\"), exist_ok=True)\n",
    "        os.makedirs(os.path.join(day_dir, \"homework\"), exist_ok=True)"
   ]
  },
  {
   "cell_type": "code",
   "execution_count": 40,
   "metadata": {},
   "outputs": [
    {
     "name": "stdout",
     "output_type": "stream",
     "text": [
      "It took 0.000270843505859375 seconds to execute 1000**1000\n"
     ]
    }
   ],
   "source": [
    "import time\n",
    "\n",
    "before = time.time()\n",
    "long_number = 1000**1000\n",
    "after = time.time()\n",
    "\n",
    "print(f\"It took {after - before} seconds to execute 1000**1000\")"
   ]
  },
  {
   "cell_type": "code",
   "execution_count": 41,
   "metadata": {},
   "outputs": [
    {
     "name": "stdout",
     "output_type": "stream",
     "text": [
      "2025-03-20\n"
     ]
    }
   ],
   "source": [
    "import datetime\n",
    "\n",
    "today_date = datetime.date.today()\n",
    "print(today_date)"
   ]
  },
  {
   "cell_type": "code",
   "execution_count": 42,
   "metadata": {},
   "outputs": [
    {
     "name": "stdout",
     "output_type": "stream",
     "text": [
      "2025-03-20 21:04:12.798598\n"
     ]
    }
   ],
   "source": [
    "actual_datetime = datetime.datetime.now()\n",
    "print(actual_datetime)"
   ]
  },
  {
   "cell_type": "code",
   "execution_count": 46,
   "metadata": {},
   "outputs": [
    {
     "name": "stdout",
     "output_type": "stream",
     "text": [
      "Today is the 20/3\n",
      "In 15 hours and 10 minutes it will be the 17/3\n"
     ]
    }
   ],
   "source": [
    "in_15_hours = actual_datetime - datetime.timedelta(days=3 , hours=15, minutes=10)\n",
    "\n",
    "print(f\"Today is the {today_date.day}/{today_date.month}\")\n",
    "print(f\"In 15 hours and 10 minutes it will be the {in_15_hours.day}/{in_15_hours.month}\")"
   ]
  },
  {
   "cell_type": "code",
   "execution_count": 50,
   "metadata": {},
   "outputs": [
    {
     "name": "stdout",
     "output_type": "stream",
     "text": [
      "Today is the 20/03\n",
      "In 15 hours and 10 minutes it will be the 17/03\n"
     ]
    }
   ],
   "source": [
    "print(f\"Today is the {today_date.strftime('%d/%m')}\")\n",
    "print(f\"In 15 hours and 10 minutes it will be the {in_15_hours.strftime('%d/%m')}\")"
   ]
  },
  {
   "cell_type": "code",
   "execution_count": 51,
   "metadata": {},
   "outputs": [],
   "source": [
    "from datetime import datetime\n",
    "string_date = \"10/09/2020\"\n",
    "\n",
    "dt = datetime.strptime(string_date, \"%d/%m/%Y\")"
   ]
  },
  {
   "cell_type": "code",
   "execution_count": 54,
   "metadata": {},
   "outputs": [
    {
     "data": {
      "text/plain": [
       "9"
      ]
     },
     "execution_count": 54,
     "metadata": {},
     "output_type": "execute_result"
    }
   ],
   "source": [
    "dt.month"
   ]
  }
 ],
 "metadata": {
  "kernelspec": {
   "display_name": ".venv",
   "language": "python",
   "name": "python3"
  },
  "language_info": {
   "codemirror_mode": {
    "name": "ipython",
    "version": 3
   },
   "file_extension": ".py",
   "mimetype": "text/x-python",
   "name": "python",
   "nbconvert_exporter": "python",
   "pygments_lexer": "ipython3",
   "version": "3.11.6"
  }
 },
 "nbformat": 4,
 "nbformat_minor": 2
}
