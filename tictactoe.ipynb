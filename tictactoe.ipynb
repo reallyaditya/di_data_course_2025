{
 "cells": [
  {
   "cell_type": "code",
   "execution_count": 1,
   "metadata": {},
   "outputs": [],
   "source": [
    "board = [\n",
    "    [\"1\", \" | \", \"2\", \" | \", \"3\"],\n",
    "    [\"-\", \" + \", \"-\", \" + \", \"-\"],\n",
    "    [\"4\", \" | \", \"5\", \" | \", \"6\"],\n",
    "    [\"-\", \" + \", \"-\", \" + \", \"-\"],\n",
    "    [\"7\", \" | \", \"8\", \" | \", \"9\"],\n",
    "]\n",
    "avaliable_numbers = [\"1\", \"2\", \"3\", \"4\", \"5\", \"6\", \"7\", \"8\", \"9\"]\n",
    "\n",
    "\n",
    "def display_board():\n",
    "    \"\"\"Prints the current state of the board\"\"\"\n",
    "    for i in board:\n",
    "        print(\"\".join(i))"
   ]
  },
  {
   "cell_type": "code",
   "execution_count": null,
   "metadata": {},
   "outputs": [],
   "source": [
    "position = input(f\"Enter at position: \")\n",
    "while avaliable_numbers.count(position) == 0:\n",
    "    position = input(\"Enter a valid position: \")"
   ]
  }
 ],
 "metadata": {
  "kernelspec": {
   "display_name": ".venv",
   "language": "python",
   "name": "python3"
  },
  "language_info": {
   "codemirror_mode": {
    "name": "ipython",
    "version": 3
   },
   "file_extension": ".py",
   "mimetype": "text/x-python",
   "name": "python",
   "nbconvert_exporter": "python",
   "pygments_lexer": "ipython3",
   "version": "3.11.6"
  }
 },
 "nbformat": 4,
 "nbformat_minor": 2
}
