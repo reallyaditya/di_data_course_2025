{
 "cells": [
  {
   "cell_type": "code",
   "execution_count": 16,
   "metadata": {},
   "outputs": [
    {
     "name": "stdout",
     "output_type": "stream",
     "text": [
      "[5, 10, 15, 200, 25, 50, 20]\n"
     ]
    }
   ],
   "source": [
    "list1 = [5, 10, 15, 20, 25, 50, 20]\n",
    "\n",
    "index_to_change = list1.index(20)\n",
    "list1[index_to_change] = 200\n",
    "\n",
    "print(list1)"
   ]
  },
  {
   "cell_type": "code",
   "execution_count": null,
   "metadata": {},
   "outputs": [],
   "source": [
    "my_dict = {\"a\": 5, \"b\": 6}"
   ]
  },
  {
   "cell_type": "code",
   "execution_count": 3,
   "metadata": {},
   "outputs": [
    {
     "name": "stdout",
     "output_type": "stream",
     "text": [
      "5\n"
     ]
    }
   ],
   "source": [
    "print(my_dict[\"a\"])"
   ]
  },
  {
   "cell_type": "code",
   "execution_count": null,
   "metadata": {},
   "outputs": [],
   "source": [
    "my_dog = {\n",
    "  'name': 'Rufus',\n",
    "  'age': 4,\n",
    "  'best_friend': {\n",
    "    'name': 'Felix',\n",
    "    'age': 4.5\n",
    "  },\n",
    "  'favorite_foods': ['steaks', 'sausages', 'shawarma'],\n",
    "}"
   ]
  },
  {
   "cell_type": "code",
   "execution_count": 20,
   "metadata": {},
   "outputs": [
    {
     "name": "stdout",
     "output_type": "stream",
     "text": [
      "color = blue\n",
      "fruit = apple\n",
      "pet = dog\n"
     ]
    }
   ],
   "source": [
    "for key, value in a_dict.items():\n",
    "    print(f\"{key} = {value}\")"
   ]
  },
  {
   "cell_type": "code",
   "execution_count": 19,
   "metadata": {},
   "outputs": [
    {
     "name": "stdout",
     "output_type": "stream",
     "text": [
      "('color', 'blue')\n",
      "('fruit', 'apple')\n",
      "('pet', 'dog')\n"
     ]
    }
   ],
   "source": [
    "for item in [('color', 'blue'), ('fruit', 'apple'), ('pet', 'dog')]:\n",
    "    print(item)"
   ]
  },
  {
   "cell_type": "code",
   "execution_count": 3,
   "metadata": {},
   "outputs": [
    {
     "data": {
      "text/plain": [
       "7"
      ]
     },
     "execution_count": 3,
     "metadata": {},
     "output_type": "execute_result"
    }
   ],
   "source": [
    "len(list1)"
   ]
  },
  {
   "cell_type": "code",
   "execution_count": 11,
   "metadata": {},
   "outputs": [
    {
     "name": "stdout",
     "output_type": "stream",
     "text": [
      "10\n",
      "20\n",
      "30\n",
      "40\n"
     ]
    }
   ],
   "source": [
    "a_tuple = (10, 20, 30, 40)\n",
    "\n",
    "a, b, c, d = a_tuple\n",
    "print(a) # should print 10\n",
    "print(b) # should print 20\n",
    "print(c) # should print 30\n",
    "print(d) # should print 40"
   ]
  },
  {
   "cell_type": "code",
   "execution_count": 20,
   "metadata": {},
   "outputs": [
    {
     "name": "stdout",
     "output_type": "stream",
     "text": [
      "apple\n",
      "banana\n",
      "kiwi\n"
     ]
    }
   ],
   "source": [
    "fruits = ['apple', 'banana', 'kiwi', 'pear']\n",
    "\n",
    "for fruit in fruits:\n",
    "  print(fruit)\n",
    "  if fruit == 'kiwi':\n",
    "    break"
   ]
  },
  {
   "cell_type": "code",
   "execution_count": 33,
   "metadata": {},
   "outputs": [
    {
     "name": "stdout",
     "output_type": "stream",
     "text": [
      "0 apple\n",
      "1 banana\n"
     ]
    }
   ],
   "source": [
    "counter = 0\n",
    "while fruits[counter] != 'kiwi':\n",
    "    print(counter, fruits[counter])\n",
    "    counter += 1"
   ]
  },
  {
   "cell_type": "code",
   "execution_count": 27,
   "metadata": {},
   "outputs": [
    {
     "name": "stdout",
     "output_type": "stream",
     "text": [
      "apple\n",
      "banana\n",
      "kiwi\n",
      "pear\n"
     ]
    }
   ],
   "source": [
    "for i in range(0, len(fruits)):\n",
    "    print(fruits[i])"
   ]
  },
  {
   "cell_type": "code",
   "execution_count": 19,
   "metadata": {},
   "outputs": [
    {
     "data": {
      "text/plain": [
       "15"
      ]
     },
     "execution_count": 19,
     "metadata": {},
     "output_type": "execute_result"
    }
   ],
   "source": [
    "list1[0] + list1[1]"
   ]
  },
  {
   "cell_type": "code",
   "execution_count": null,
   "metadata": {},
   "outputs": [
    {
     "name": "stdout",
     "output_type": "stream",
     "text": [
      "1\n",
      "2\n",
      "3\n",
      "7\n",
      "8\n",
      "9\n",
      "10\n",
      "11\n"
     ]
    }
   ],
   "source": [
    "current_number = 0\n",
    "while current_number <= 10:\n",
    "    current_number += 1\n",
    "    if 3 < current_number < 7: # If the number is between 3 and 7\n",
    "        continue                # Go back to the beginning of the loop\n",
    "    print(current_number)"
   ]
  },
  {
   "cell_type": "code",
   "execution_count": 1,
   "metadata": {},
   "outputs": [
    {
     "name": "stdout",
     "output_type": "stream",
     "text": [
      "wrong password\n",
      "wrong password\n",
      "wrong password\n",
      "wrong password\n",
      "wrong password\n",
      "You guessed the right password!\n"
     ]
    }
   ],
   "source": [
    "password = ''\n",
    "while password != 'hello-world-123':\n",
    "  password = input('What is the top secret password? ')\n",
    "  print(\"wrong password\")\n",
    "\n",
    "print('You guessed the right password!')"
   ]
  },
  {
   "cell_type": "code",
   "execution_count": 24,
   "metadata": {},
   "outputs": [],
   "source": [
    "shirts = [\n",
    "  {\n",
    "    'name': 'Awesome T-shirt 3000',\n",
    "    'size': 'S',\n",
    "    'price': 20\n",
    "  },\n",
    "  {\n",
    "    'name': 'Awesome T-shirt 3000',\n",
    "    'size': 'M',\n",
    "    'price': 25\n",
    "  },\n",
    "  {\n",
    "    'name': 'Awesome T-shirt 3000',\n",
    "    'size': 'L',\n",
    "    'price': 30\n",
    "  },\n",
    "]"
   ]
  },
  {
   "cell_type": "code",
   "execution_count": 25,
   "metadata": {},
   "outputs": [],
   "source": [
    "rick_dict = {\n",
    "    'first_name':'Rick',\n",
    "    'last_name':'Sanchez'\n",
    "}"
   ]
  },
  {
   "cell_type": "code",
   "execution_count": 26,
   "metadata": {},
   "outputs": [],
   "source": [
    "rick_dict['last_name'] = 'SANCHEZ'"
   ]
  },
  {
   "cell_type": "code",
   "execution_count": 31,
   "metadata": {},
   "outputs": [
    {
     "name": "stdout",
     "output_type": "stream",
     "text": [
      "{'first_name': 'Rick', 'last_name': 'SANCHEZ'}\n"
     ]
    }
   ],
   "source": [
    "print(rick_dict)"
   ]
  },
  {
   "cell_type": "code",
   "execution_count": 28,
   "metadata": {},
   "outputs": [],
   "source": [
    "rick_dict['hair_color'] = 'white'"
   ]
  },
  {
   "cell_type": "code",
   "execution_count": 30,
   "metadata": {},
   "outputs": [],
   "source": [
    "del rick_dict['hair_color']"
   ]
  },
  {
   "cell_type": "code",
   "execution_count": 35,
   "metadata": {},
   "outputs": [
    {
     "data": {
      "text/plain": [
       "{'first_name': 'Rick', 'last_name': 'SANCHEZ'}"
      ]
     },
     "execution_count": 35,
     "metadata": {},
     "output_type": "execute_result"
    }
   ],
   "source": [
    "rick_dict"
   ]
  },
  {
   "cell_type": "code",
   "execution_count": 34,
   "metadata": {},
   "outputs": [
    {
     "name": "stdout",
     "output_type": "stream",
     "text": [
      "S\n",
      "M\n",
      "L\n"
     ]
    }
   ],
   "source": [
    "for shirt in shirts:\n",
    "    print(shirt['size'])"
   ]
  },
  {
   "cell_type": "code",
   "execution_count": 38,
   "metadata": {},
   "outputs": [
    {
     "data": {
      "text/plain": [
       "dict_keys(['first_name', 'last_name'])"
      ]
     },
     "execution_count": 38,
     "metadata": {},
     "output_type": "execute_result"
    }
   ],
   "source": [
    "rick_dict.keys()"
   ]
  },
  {
   "cell_type": "code",
   "execution_count": 39,
   "metadata": {},
   "outputs": [
    {
     "data": {
      "text/plain": [
       "dict_values(['Rick', 'SANCHEZ'])"
      ]
     },
     "execution_count": 39,
     "metadata": {},
     "output_type": "execute_result"
    }
   ],
   "source": [
    "rick_dict.values()"
   ]
  },
  {
   "cell_type": "code",
   "execution_count": 40,
   "metadata": {},
   "outputs": [],
   "source": [
    "rick_dict.update({'first_name': 'Morty'})"
   ]
  },
  {
   "cell_type": "code",
   "execution_count": 41,
   "metadata": {},
   "outputs": [
    {
     "data": {
      "text/plain": [
       "{'first_name': 'Morty', 'last_name': 'SANCHEZ'}"
      ]
     },
     "execution_count": 41,
     "metadata": {},
     "output_type": "execute_result"
    }
   ],
   "source": [
    "rick_dict"
   ]
  },
  {
   "cell_type": "code",
   "execution_count": 48,
   "metadata": {},
   "outputs": [
    {
     "name": "stdout",
     "output_type": "stream",
     "text": [
      "Removing name\n",
      "Removing first_name\n",
      "Removing salary\n"
     ]
    }
   ],
   "source": [
    "sample_dict = {\n",
    "  \"name\": \"Kelly\",\n",
    "  \"age\":25,\n",
    "  \"salary\": 8000,\n",
    "  \"city\": \"New york\"\n",
    "}\n",
    "\n",
    "keys_to_remove = [\"name\", \"first_name\", \"salary\"]\n",
    "\n",
    "for key in keys_to_remove:\n",
    "    print(f\"Removing {key}\")\n",
    "    if key in sample_dict:\n",
    "        del sample_dict[key]"
   ]
  },
  {
   "cell_type": "code",
   "execution_count": 49,
   "metadata": {},
   "outputs": [
    {
     "data": {
      "text/plain": [
       "{'age': 25, 'city': 'New york'}"
      ]
     },
     "execution_count": 49,
     "metadata": {},
     "output_type": "execute_result"
    }
   ],
   "source": [
    "sample_dict"
   ]
  },
  {
   "cell_type": "code",
   "execution_count": 56,
   "metadata": {},
   "outputs": [
    {
     "name": "stdout",
     "output_type": "stream",
     "text": [
      "0 apple\n",
      "1 banana\n",
      "2 cherry\n"
     ]
    }
   ],
   "source": [
    "my_list = [\"apple\", \"banana\", \"cherry\"]\n",
    "\n",
    "for i, item in enumerate(my_list):\n",
    "    print(i, item)"
   ]
  },
  {
   "cell_type": "code",
   "execution_count": 61,
   "metadata": {},
   "outputs": [
    {
     "name": "stdout",
     "output_type": "stream",
     "text": [
      "1 a 1.1\n",
      "2 b 2.2\n",
      "3 c 3.3\n"
     ]
    }
   ],
   "source": [
    "list1 = [1,2,3]\n",
    "list2 = ['a','b','c']\n",
    "list3 = [1.1, 2.2, 3.3, 4.4, 5.5]\n",
    "\n",
    "for item1, item2, item3 in zip(list1, list2, list3): # only go as far as it is possible\n",
    "    print(item1, item2, item3)"
   ]
  },
  {
   "cell_type": "code",
   "execution_count": 64,
   "metadata": {},
   "outputs": [
    {
     "name": "stdout",
     "output_type": "stream",
     "text": [
      "1\n",
      "2\n",
      "The for loop is over\n"
     ]
    }
   ],
   "source": [
    "for i in range(1, 3):\n",
    "    print(i)\n",
    "else:\n",
    "    print('The for loop is over')"
   ]
  },
  {
   "cell_type": "code",
   "execution_count": 69,
   "metadata": {},
   "outputs": [
    {
     "name": "stdout",
     "output_type": "stream",
     "text": [
      "x is 0\n",
      "x is 1\n",
      "x is bigger than 2\n"
     ]
    }
   ],
   "source": [
    "x = 0\n",
    "while x < 2:\n",
    "    print(f'x is {x}')\n",
    "    x += 1\n",
    "else:\n",
    "    print('x is bigger than 2')"
   ]
  },
  {
   "cell_type": "code",
   "execution_count": 72,
   "metadata": {},
   "outputs": [
    {
     "name": "stdout",
     "output_type": "stream",
     "text": [
      "0\n"
     ]
    }
   ],
   "source": [
    "x = 0\n",
    "if x < 2:\n",
    "    pass\n",
    "print(x)"
   ]
  },
  {
   "cell_type": "code",
   "execution_count": 77,
   "metadata": {},
   "outputs": [
    {
     "name": "stdout",
     "output_type": "stream",
     "text": [
      "[0, 1, 2, 3, 4, 5, 6, 7, 8, 9]\n"
     ]
    }
   ],
   "source": [
    "my_list = ['1', '2', '3', '4']\n",
    "my_number = \"0123456789\"\n",
    "my_new_list = [int(num) for num in my_number]\n",
    "\n",
    "print(my_new_list)"
   ]
  },
  {
   "cell_type": "code",
   "execution_count": 78,
   "metadata": {},
   "outputs": [
    {
     "name": "stdout",
     "output_type": "stream",
     "text": [
      "[0, 1, 2, 3, 4, 5]\n"
     ]
    }
   ],
   "source": [
    "my_list = [x for x in range(0,6)]\n",
    "print(my_list)"
   ]
  },
  {
   "cell_type": "code",
   "execution_count": 79,
   "metadata": {},
   "outputs": [
    {
     "name": "stdout",
     "output_type": "stream",
     "text": [
      "[0, 1, 4, 9, 16, 25]\n"
     ]
    }
   ],
   "source": [
    "my_list = [x**2 for x in range(0,6)] # square\n",
    "print(my_list)"
   ]
  },
  {
   "cell_type": "code",
   "execution_count": null,
   "metadata": {},
   "outputs": [
    {
     "name": "stdout",
     "output_type": "stream",
     "text": [
      "Total: 5400\n"
     ]
    }
   ],
   "source": [
    "my_list = []\n",
    "my_numers = [2, 3, 4]\n",
    "multipliers = [100, 200, 300]\n",
    "total = 0\n",
    "for i in my_numers:\n",
    "    for j in multipliers:\n",
    "        my_list.append(i * j)\n",
    "        total += i * j\n",
    "\n",
    "print(f\"Total: {total}\")\n",
    "print(my_list)"
   ]
  },
  {
   "cell_type": "code",
   "execution_count": null,
   "metadata": {},
   "outputs": [
    {
     "name": "stdout",
     "output_type": "stream",
     "text": [
      "5400\n"
     ]
    }
   ],
   "source": [
    "my_list = []\n",
    "my_numers = [2, 3, 4]\n",
    "multipliers = [100, 200, 300]\n",
    "\n",
    "my_list = [(i * j) for i in my_numers for j in multipliers]\n",
    "print(sum(my_list))"
   ]
  },
  {
   "cell_type": "code",
   "execution_count": 86,
   "metadata": {},
   "outputs": [
    {
     "name": "stdout",
     "output_type": "stream",
     "text": [
      "{'Lea': 13, 'Mark': 26, 'George': 51}\n"
     ]
    }
   ],
   "source": [
    "family_age = {'Lea': 12, 'Mark': 25, 'George': 50}\n",
    "new_family_age = dict()\n",
    "\n",
    "for name, age in family_age.items():\n",
    "    new_family_age[name] = age + 1\n",
    "\n",
    "print(new_family_age)"
   ]
  },
  {
   "cell_type": "code",
   "execution_count": 88,
   "metadata": {},
   "outputs": [
    {
     "name": "stdout",
     "output_type": "stream",
     "text": [
      "{'Lea': 13, 'Mark': 26, 'George': 51}\n"
     ]
    }
   ],
   "source": [
    "family_age = {'Lea': 12, 'Mark': 25, 'George': 50}\n",
    "\n",
    "\n",
    "new_family_age = {name: age + 1 for name, age in family_age.items()}\n",
    "\n",
    "print(new_family_age)"
   ]
  },
  {
   "cell_type": "code",
   "execution_count": 97,
   "metadata": {},
   "outputs": [
    {
     "name": "stdout",
     "output_type": "stream",
     "text": [
      "{'d': [0, 2], 'o': [1, 3]}\n"
     ]
    }
   ],
   "source": [
    "dic = {}\n",
    "text_input = input(\"Enter a word: \")\n",
    "for i,letter in enumerate(text_input):\n",
    "        if letter not in dic:\n",
    "            dic[letter] = []\n",
    "        dic[letter].append(i)\n",
    "\n",
    "print(dic)"
   ]
  },
  {
   "cell_type": "code",
   "execution_count": null,
   "metadata": {},
   "outputs": [
    {
     "name": "stdout",
     "output_type": "stream",
     "text": [
      "Nothing\n"
     ]
    }
   ],
   "source": [
    "store = {\n",
    "  \"Water\": \"$1\",\n",
    "  \"Bread\": \"$3\",\n",
    "  \"TV\": \"$1,000\",\n",
    "  \"Fertilizer\": \"$20\",\n",
    "  \"Apple\": \"$4\",\n",
    "  \"Honey\": \"$3\",\n",
    "  \"Fan\": \"$14\",\n",
    "  \"Bananas\": \"$4\",\n",
    "  \"Pan\": \"$100\",\n",
    "  \"Spoon\": \"$2\",\n",
    "  \"Phone\": \"$999\",\n",
    "  \"Speakers\": \"$300\",\n",
    "  \"Laptop\": \"$5,000\",\n",
    "  \"PC\": \"$1200\",\n",
    "}\n",
    "\n",
    "\n",
    "items_purchase = {\n",
    "  \"Water\": \"$1\",\n",
    "  \"Bread\": \"$3\",\n",
    "  \"TV\": \"$1,000\",\n",
    "  \"Fertilizer\": \"$20\"\n",
    "}\n",
    "\n",
    "wallet = \"$300\"\n",
    "\n",
    "amount = int(wallet.replace(\"$\",''))\n",
    "newlist = []\n",
    "\n",
    "for eachitem in store.keys():\n",
    "  if eachitem in items_purchase:\n",
    "    if int(items_purchase[eachitem].replace(\"$\",'').replace(',','')) < amount:\n",
    "        newlist.append(eachitem)\n",
    "\n",
    "if newlist == []:\n",
    "  print('Nothing')\n",
    "else:\n",
    "  print(sorted(newlist))"
   ]
  }
 ],
 "metadata": {
  "kernelspec": {
   "display_name": ".venv",
   "language": "python",
   "name": "python3"
  },
  "language_info": {
   "codemirror_mode": {
    "name": "ipython",
    "version": 3
   },
   "file_extension": ".py",
   "mimetype": "text/x-python",
   "name": "python",
   "nbconvert_exporter": "python",
   "pygments_lexer": "ipython3",
   "version": "3.11.6"
  }
 },
 "nbformat": 4,
 "nbformat_minor": 2
}
