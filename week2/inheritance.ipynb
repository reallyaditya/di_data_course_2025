{
 "cells": [
  {
   "cell_type": "code",
   "execution_count": 6,
   "metadata": {},
   "outputs": [
    {
     "name": "stdout",
     "output_type": "stream",
     "text": [
      "blue\n"
     ]
    }
   ],
   "source": [
    "class Circle:\n",
    "    color = \"red\"\n",
    "\n",
    "class NewCircle(Circle):\n",
    "    color = \"blue\"\n",
    "    pass\n",
    "\n",
    "nc = NewCircle\n",
    "print(nc.color)"
   ]
  },
  {
   "cell_type": "code",
   "execution_count": null,
   "metadata": {},
   "outputs": [
    {
     "name": "stdout",
     "output_type": "stream",
     "text": [
      "1\n",
      "1\n"
     ]
    }
   ],
   "source": [
    "class Circle:\n",
    "    def __init__(self, diameter):\n",
    "      self.diameter = diameter\n",
    "\n",
    "    def grow(self, factor=2):\n",
    "        \"\"\"grows the circle's diameter by factor\"\"\"\n",
    "        self.diameter = self.diameter * factor\n",
    "\n",
    "class NewCircle(Circle):\n",
    "    def grow(self, factor=2):\n",
    "        \"\"\"grows the area by factor...\"\"\"\n",
    "        self.diameter = (self.diameter * factor * 2)\n",
    "\n",
    "nc = NewCircle(1)\n",
    "print(nc.diameter)\n",
    "\n",
    "nc.grow()\n",
    "\n",
    "print(nc.diameter)"
   ]
  },
  {
   "cell_type": "code",
   "execution_count": 9,
   "metadata": {},
   "outputs": [
    {
     "name": "stdout",
     "output_type": "stream",
     "text": [
      "I am an DOGGG !!! WOUAFFF!!\n"
     ]
    }
   ],
   "source": [
    "class Animal():\n",
    "    def __init__(self, type, number_legs, sound):\n",
    "        self.type = type\n",
    "        self.number_legs = number_legs\n",
    "        self.sound = sound\n",
    "\n",
    "    def make_sound(self):\n",
    "        print(f\"I am an animal, and I love saying {self.sound}\")\n",
    "\n",
    "class Dog(Animal):\n",
    "    def fetch_ball(self):\n",
    "        print(\"I am a dog, and I love fetching balls\")\n",
    "\n",
    "    def make_sound(self):\n",
    "        print(\"I am an DOGGG !!! WOUAFFF!!\")\n",
    "\n",
    "rex = Dog('dog', 4, \"Wouaf\")\n",
    "rex.make_sound()"
   ]
  },
  {
   "cell_type": "code",
   "execution_count": 10,
   "metadata": {},
   "outputs": [
    {
     "name": "stdout",
     "output_type": "stream",
     "text": [
      "This animal is a: dog\n"
     ]
    }
   ],
   "source": [
    "class Animal():\n",
    "    def __init__(self, type, number_legs, sound):\n",
    "        self.type = type\n",
    "        self.number_legs = number_legs\n",
    "        self.sound = sound\n",
    "\n",
    "    def make_sound(self):\n",
    "        print(f\"I am an animal, and I love saying {self.sound}\")\n",
    "\n",
    "class Dog(Animal):\n",
    "    def __init__(self, type, number_legs, sound, fetch_ball):\n",
    "        super().__init__(type, number_legs, sound)\n",
    "        # Or : Animal.__init__(self,type, number_legs, sound)\n",
    "        self.fetch_ball = fetch_ball\n",
    "\n",
    "    def bark(self):\n",
    "        super().make_sound()\n",
    "        print(\"I am a dog, and I love barking\")\n",
    "\n",
    "rex = Dog('dog', 4, \"wouaf\", True)\n",
    "print('This animal is a:', rex.type)"
   ]
  },
  {
   "cell_type": "code",
   "execution_count": 12,
   "metadata": {},
   "outputs": [
    {
     "name": "stdout",
     "output_type": "stream",
     "text": [
      "I am an animal, and I love saying wouaf\n",
      "I am a dog, and I love barking\n"
     ]
    }
   ],
   "source": [
    "rex.bark()"
   ]
  },
  {
   "cell_type": "code",
   "execution_count": 17,
   "metadata": {},
   "outputs": [],
   "source": [
    "class MyClass(object):\n",
    "    def func(self):\n",
    "        print(\"I'm being called from the Parent class\")\n",
    "\n",
    "\n",
    "class ChildClass(MyClass):\n",
    "    def func(self):\n",
    "        print(\"I'm actually being called from the Child class\")\n",
    "        print(\"But...\")\n",
    "        # Calling the `func()` method from the Parent class.\n",
    "        super(ChildClass, self).func()\n",
    "        super().func()\n",
    "        MyClass.func(self)"
   ]
  },
  {
   "cell_type": "code",
   "execution_count": 18,
   "metadata": {},
   "outputs": [
    {
     "name": "stdout",
     "output_type": "stream",
     "text": [
      "I'm actually being called from the Child class\n",
      "But...\n",
      "I'm being called from the Parent class\n",
      "I'm being called from the Parent class\n",
      "I'm being called from the Parent class\n"
     ]
    }
   ],
   "source": [
    "my_instance_2 = ChildClass()\n",
    "my_instance_2.func()"
   ]
  },
  {
   "cell_type": "code",
   "execution_count": null,
   "metadata": {},
   "outputs": [],
   "source": []
  },
  {
   "cell_type": "code",
   "execution_count": 1,
   "metadata": {},
   "outputs": [],
   "source": [
    "class Door:\n",
    "    def __init__(self, is_opened=False):\n",
    "        self.__is_opened = is_opened\n",
    "\n",
    "    def __open_door(self):\n",
    "        self.is_opened = True\n",
    "        print(\"The door is now open.\")\n",
    "\n",
    "    def close_door(self):\n",
    "        self.is_opened = False\n",
    "        print(\"The door is now closed.\")"
   ]
  },
  {
   "cell_type": "code",
   "execution_count": null,
   "metadata": {},
   "outputs": [],
   "source": [
    "my_door = Door()"
   ]
  },
  {
   "cell_type": "code",
   "execution_count": 3,
   "metadata": {},
   "outputs": [
    {
     "data": {
      "text/plain": [
       "True"
      ]
     },
     "execution_count": 3,
     "metadata": {},
     "output_type": "execute_result"
    }
   ],
   "source": [
    "my_door.__is_opened"
   ]
  },
  {
   "cell_type": "code",
   "execution_count": 4,
   "metadata": {},
   "outputs": [],
   "source": [
    "class Alien():\n",
    "    def __init__(self, name, planet):\n",
    "        self.name = name\n",
    "        self.planet = planet\n",
    "\n",
    "    def fly(self):\n",
    "        print(self.name, 'is flying!')\n",
    "\n",
    "    def sleep(self):\n",
    "        print(\"Aliens don't sleep\")\n",
    "\n",
    "class Animal():\n",
    "    def __init__(self, name):\n",
    "        self.name = name\n",
    "\n",
    "    def sleep(self):\n",
    "        print(\"zzzZZZZZ\")\n",
    "\n",
    "class Dog(Animal):\n",
    "    def bark(self):\n",
    "        print(f\"{self.name} barked, WAF !\")\n",
    "\n",
    "class AlienDog(Alien, Dog):\n",
    "    def bark(self):\n",
    "        print(f\"{self.name} barked, 0ul10ul0u (that's how aliens dogs bark..) !\")"
   ]
  },
  {
   "cell_type": "code",
   "execution_count": 5,
   "metadata": {},
   "outputs": [
    {
     "name": "stdout",
     "output_type": "stream",
     "text": [
      "zzzZZZZZ\n"
     ]
    }
   ],
   "source": [
    "my_normal_dog = Dog(\"Roger\")\n",
    "my_normal_dog.sleep()"
   ]
  },
  {
   "cell_type": "code",
   "execution_count": 6,
   "metadata": {},
   "outputs": [
    {
     "name": "stdout",
     "output_type": "stream",
     "text": [
      "Roger barked, WAF !\n"
     ]
    }
   ],
   "source": [
    "my_normal_dog.bark()"
   ]
  },
  {
   "cell_type": "code",
   "execution_count": 7,
   "metadata": {},
   "outputs": [
    {
     "name": "stdout",
     "output_type": "stream",
     "text": [
      "Neptune\n"
     ]
    }
   ],
   "source": [
    "my_alien_dog = AlienDog(\"Rex\", \"Neptune\")\n",
    "print(my_alien_dog.planet)"
   ]
  },
  {
   "cell_type": "code",
   "execution_count": 8,
   "metadata": {},
   "outputs": [
    {
     "name": "stdout",
     "output_type": "stream",
     "text": [
      "Rex is flying!\n"
     ]
    }
   ],
   "source": [
    "my_alien_dog.fly()"
   ]
  },
  {
   "cell_type": "code",
   "execution_count": 9,
   "metadata": {},
   "outputs": [
    {
     "name": "stdout",
     "output_type": "stream",
     "text": [
      "Aliens don't sleep\n"
     ]
    }
   ],
   "source": [
    "my_alien_dog.sleep()"
   ]
  },
  {
   "cell_type": "code",
   "execution_count": 10,
   "metadata": {},
   "outputs": [
    {
     "name": "stdout",
     "output_type": "stream",
     "text": [
      "Rex barked, 0ul10ul0u (that's how aliens dogs bark..) !\n"
     ]
    }
   ],
   "source": [
    "my_alien_dog.bark()"
   ]
  },
  {
   "cell_type": "code",
   "execution_count": null,
   "metadata": {},
   "outputs": [
    {
     "name": "stdout",
     "output_type": "stream",
     "text": [
      "An error occurred. Please check your inputs.\n"
     ]
    }
   ],
   "source": [
    "my_input = input(\"Enter a number: \")\n",
    "my_second_input = input(\"Enter another number: \")\n",
    "try:\n",
    "    result = int(my_input) / int(my_second_input)\n",
    "    print(\"The result is:\", result)\n",
    "except (ZeroDivisionError, ValueError):\n",
    "    print(\"An error occurred. Please check your inputs.\")"
   ]
  },
  {
   "cell_type": "code",
   "execution_count": 23,
   "metadata": {},
   "outputs": [],
   "source": [
    "def age():\n",
    "    user_age = input(\"How old are you?\\n>>> \")\n",
    "    #######\n",
    "    try:\n",
    "        user_age = int(user_age)\n",
    "        print(f\"I AM AFTER {user_age}\")\n",
    "    except:\n",
    "        print(\"Your age is not a real age\")\n",
    "        user_age = 0\n",
    "    #######\n",
    "    print(f\"Next year, you will be {user_age+1} years old\")"
   ]
  },
  {
   "cell_type": "code",
   "execution_count": 25,
   "metadata": {},
   "outputs": [
    {
     "name": "stdout",
     "output_type": "stream",
     "text": [
      "Your age is not a real age\n",
      "Next year, you will be 1 years old\n"
     ]
    }
   ],
   "source": [
    "age()"
   ]
  },
  {
   "cell_type": "code",
   "execution_count": 27,
   "metadata": {},
   "outputs": [
    {
     "name": "stdout",
     "output_type": "stream",
     "text": [
      "Please enter a real age\n",
      "Please enter a real age\n",
      "Please enter a real age\n",
      "Next year, your age will be 10\n"
     ]
    }
   ],
   "source": [
    "valid_flag = False\n",
    "while not valid_flag:\n",
    "    userage = input(\"How old are you?\")\n",
    "    try:\n",
    "        userage = int(userage)\n",
    "        valid_flag = True\n",
    "    except:\n",
    "        print(\"Please enter a real age\")\n",
    "\n",
    "print(\"Next year, your age will be\",userage+1)"
   ]
  },
  {
   "cell_type": "code",
   "execution_count": 29,
   "metadata": {},
   "outputs": [
    {
     "name": "stdout",
     "output_type": "stream",
     "text": [
      "Next year, your age will be 5\n"
     ]
    }
   ],
   "source": [
    "valid_flag = False\n",
    "while not valid_flag:\n",
    "    userage = input(\"How old are you?\")\n",
    "    try:\n",
    "        userage    = int(userage)\n",
    "        valid_flag = True\n",
    "    except:\n",
    "        pass\n",
    "\n",
    "print(\"Next year, your age will be\",userage+1)"
   ]
  },
  {
   "cell_type": "code",
   "execution_count": null,
   "metadata": {},
   "outputs": [
    {
     "name": "stdout",
     "output_type": "stream",
     "text": [
      "Wrong age!\n",
      "Next year, your age will be 5\n"
     ]
    }
   ],
   "source": [
    "valid_flag = False\n",
    "while not valid_flag:\n",
    "    userage = input(\"How old are you?\")\n",
    "    try:    # TRY THIS\n",
    "        userage    = int(userage)\n",
    "    except: # IF YOU GOT AN ERROR\n",
    "        print(\"Wrong age!\")\n",
    "    else:   # ELSE\n",
    "        valid_flag = True\n",
    "print(\"Next year, your age will be\",userage+1)"
   ]
  },
  {
   "cell_type": "code",
   "execution_count": 31,
   "metadata": {},
   "outputs": [
    {
     "name": "stdout",
     "output_type": "stream",
     "text": [
      "Wrong age!\n",
      "There may or may not have been an exception.\n",
      "There may or may not have been an exception.\n",
      "Next year, your age will be 6\n"
     ]
    }
   ],
   "source": [
    "valid_flag = False\n",
    "while not valid_flag:\n",
    "    userage = input(\"How old are you?\")\n",
    "    try:    # TRY THIS\n",
    "        userage    = int(userage)\n",
    "    except: # IF YOU GOT AN ERROR\n",
    "        print(\"Wrong age!\")\n",
    "    else:   # ELSE\n",
    "        valid_flag = True\n",
    "    finally:\n",
    "        print('There may or may not have been an exception.')\n",
    "\n",
    "print(\"Next year, your age will be\",userage+1)"
   ]
  },
  {
   "cell_type": "code",
   "execution_count": 35,
   "metadata": {},
   "outputs": [
    {
     "ename": "RuntimeError",
     "evalue": "x is greater than 5",
     "output_type": "error",
     "traceback": [
      "\u001b[31m---------------------------------------------------------------------------\u001b[39m",
      "\u001b[31mRuntimeError\u001b[39m                              Traceback (most recent call last)",
      "\u001b[36mCell\u001b[39m\u001b[36m \u001b[39m\u001b[32mIn[35]\u001b[39m\u001b[32m, line 3\u001b[39m\n\u001b[32m      1\u001b[39m x = \u001b[38;5;28minput\u001b[39m(\u001b[33m\"\u001b[39m\u001b[33mEnter a number: \u001b[39m\u001b[33m\"\u001b[39m)\n\u001b[32m      2\u001b[39m \u001b[38;5;28;01mif\u001b[39;00m \u001b[38;5;28mint\u001b[39m(x) > \u001b[32m5\u001b[39m:\n\u001b[32m----> \u001b[39m\u001b[32m3\u001b[39m     \u001b[38;5;28;01mraise\u001b[39;00m \u001b[38;5;167;01mRuntimeError\u001b[39;00m(\u001b[33m\"\u001b[39m\u001b[33mx is greater than 5\u001b[39m\u001b[33m\"\u001b[39m)\n",
      "\u001b[31mRuntimeError\u001b[39m: x is greater than 5"
     ]
    }
   ],
   "source": [
    "x = input(\"Enter a number: \")\n",
    "if int(x) > 5:\n",
    "    raise RuntimeError(\"x is greater than 5\")"
   ]
  },
  {
   "cell_type": "code",
   "execution_count": 38,
   "metadata": {},
   "outputs": [
    {
     "ename": "AssertionError",
     "evalue": "",
     "output_type": "error",
     "traceback": [
      "\u001b[31m---------------------------------------------------------------------------\u001b[39m",
      "\u001b[31mAssertionError\u001b[39m                            Traceback (most recent call last)",
      "\u001b[36mCell\u001b[39m\u001b[36m \u001b[39m\u001b[32mIn[38]\u001b[39m\u001b[32m, line 2\u001b[39m\n\u001b[32m      1\u001b[39m z = \u001b[38;5;28mint\u001b[39m(\u001b[38;5;28minput\u001b[39m(\u001b[33m\"\u001b[39m\u001b[33mEnter a number: \u001b[39m\u001b[33m\"\u001b[39m))\n\u001b[32m----> \u001b[39m\u001b[32m2\u001b[39m \u001b[38;5;28;01massert\u001b[39;00m z == \u001b[32m9\u001b[39m\n",
      "\u001b[31mAssertionError\u001b[39m: "
     ]
    }
   ],
   "source": [
    "z = int(input(\"Enter a number: \"))\n",
    "assert z == 9"
   ]
  },
  {
   "cell_type": "code",
   "execution_count": 39,
   "metadata": {},
   "outputs": [
    {
     "name": "stdout",
     "output_type": "stream",
     "text": [
      "Error: Those are not equals\n"
     ]
    }
   ],
   "source": [
    "z = 9\n",
    "try:\n",
    "    assert 1 == z\n",
    "except AssertionError:\n",
    "    print(\"Error: Those are not equals\")"
   ]
  }
 ],
 "metadata": {
  "kernelspec": {
   "display_name": ".venv",
   "language": "python",
   "name": "python3"
  },
  "language_info": {
   "codemirror_mode": {
    "name": "ipython",
    "version": 3
   },
   "file_extension": ".py",
   "mimetype": "text/x-python",
   "name": "python",
   "nbconvert_exporter": "python",
   "pygments_lexer": "ipython3",
   "version": "3.11.6"
  }
 },
 "nbformat": 4,
 "nbformat_minor": 2
}
