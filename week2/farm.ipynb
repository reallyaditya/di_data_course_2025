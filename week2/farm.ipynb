{
 "cells": [
  {
   "cell_type": "code",
   "execution_count": 8,
   "metadata": {},
   "outputs": [],
   "source": [
    "class Farm:\n",
    "    def __init__(self):\n",
    "        self.name = \"McDonalds\"\n",
    "        self.animals = {}\n",
    "\n",
    "    def get_info(self):\n",
    "        print(f\"{self.name}'s Farm\".center(22))\n",
    "        for animal in self.animals:\n",
    "            print(f\" {animal:<14} : {self.animals[animal]}\")\n",
    "        print('-'.join(list(\"EIEIO\")).center(22))\n",
    "\n",
    "    def add_animal(self, animal, number = 1):\n",
    "        if animal in self.animals:\n",
    "            self.animals[animal] += number\n",
    "        else:\n",
    "            self.animals[animal] = number\n",
    "\n",
    "    def get_animal_types(self):\n",
    "        return sorted(list(self.animals))\n",
    "\n",
    "    def get_short_info(self):\n",
    "        print(f\"{self.name}'s farm has {', '.join(self.get_animal_types())}.\")"
   ]
  },
  {
   "cell_type": "code",
   "execution_count": 7,
   "metadata": {},
   "outputs": [
    {
     "data": {
      "text/plain": [
       "'E-I-E-I-O'"
      ]
     },
     "execution_count": 7,
     "metadata": {},
     "output_type": "execute_result"
    }
   ],
   "source": [
    "'-'.join(list(\"EIEIO\"))"
   ]
  },
  {
   "cell_type": "code",
   "execution_count": 9,
   "metadata": {},
   "outputs": [
    {
     "name": "stdout",
     "output_type": "stream",
     "text": [
      "   McDonalds's Farm   \n",
      " cows           : 5\n",
      " sheep          : 2\n",
      " goats          : 12\n",
      " hornswaggles   : 2\n",
      "      E-I-E-I-O       \n",
      "McDonalds's farm has cows, goats, hornswaggles, sheep.\n"
     ]
    }
   ],
   "source": [
    "macD = Farm()\n",
    "macD.add_animal(\"cows\", 5)\n",
    "macD.add_animal(\"sheep\")\n",
    "macD.add_animal(\"sheep\")\n",
    "macD.add_animal(\"goats\", 12)\n",
    "macD.add_animal(\"hornswaggles\", 2)\n",
    "macD.get_info()\n",
    "macD.get_short_info()"
   ]
  }
 ],
 "metadata": {
  "kernelspec": {
   "display_name": ".venv",
   "language": "python",
   "name": "python3"
  },
  "language_info": {
   "codemirror_mode": {
    "name": "ipython",
    "version": 3
   },
   "file_extension": ".py",
   "mimetype": "text/x-python",
   "name": "python",
   "nbconvert_exporter": "python",
   "pygments_lexer": "ipython3",
   "version": "3.11.6"
  }
 },
 "nbformat": 4,
 "nbformat_minor": 2
}
