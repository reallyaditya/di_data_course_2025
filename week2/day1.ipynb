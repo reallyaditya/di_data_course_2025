{
 "cells": [
  {
   "cell_type": "code",
   "execution_count": 5,
   "metadata": {},
   "outputs": [],
   "source": [
    "def say_hello(input_string):\n",
    "    \"\"\"A function that says hello\"\"\"\n",
    "    print(\"Hello!\", input_string)\n",
    "    return {\"Hello \" + input_string + \"!\"}"
   ]
  },
  {
   "cell_type": "code",
   "execution_count": 6,
   "metadata": {},
   "outputs": [
    {
     "name": "stdout",
     "output_type": "stream",
     "text": [
      "Hello! world\n"
     ]
    }
   ],
   "source": [
    "greeting = say_hello(\"world\")"
   ]
  },
  {
   "cell_type": "code",
   "execution_count": 8,
   "metadata": {},
   "outputs": [
    {
     "data": {
      "text/plain": [
       "set"
      ]
     },
     "execution_count": 8,
     "metadata": {},
     "output_type": "execute_result"
    }
   ],
   "source": [
    "type(greeting)"
   ]
  },
  {
   "cell_type": "code",
   "execution_count": null,
   "metadata": {},
   "outputs": [],
   "source": [
    "my_numbers = [1, 2, 3, 4, 5]\n",
    "\n",
    "total = 0\n",
    "for num in my_numbers:\n",
    "    total += num\n",
    "print(\"The total is:\", total)\n",
    "\n",
    "mean = total / len(my_numbers)\n",
    "print(\"The mean is:\", mean)"
   ]
  },
  {
   "cell_type": "code",
   "execution_count": null,
   "metadata": {},
   "outputs": [],
   "source": [
    "def calculate_mean(my_list_of_numbers):\n",
    "    total = 0\n",
    "    for num in my_list_of_numbers:\n",
    "        total += num\n",
    "    print(\"The total is:\", total)\n",
    "\n",
    "    mean = total / len(my_list_of_numbers)\n",
    "    print(\"The mean is:\", mean)\n",
    "    return mean, total"
   ]
  },
  {
   "cell_type": "code",
   "execution_count": null,
   "metadata": {},
   "outputs": [],
   "source": [
    "def rolling_mean(my_list_of_numbers):\n",
    "    \"\"\"A function that calculates the mean of a list of numbers\"\"\"\n",
    "    total = 0\n",
    "    for num in my_list_of_numbers:\n",
    "        total += num\n",
    "    mean = total / len(my_list_of_numbers)\n",
    "    return mean, total"
   ]
  },
  {
   "cell_type": "code",
   "execution_count": null,
   "metadata": {},
   "outputs": [
    {
     "name": "stdout",
     "output_type": "stream",
     "text": [
      "The total is: 15\n",
      "The mean is: 3.0\n",
      "The mean is: 3.0\n"
     ]
    }
   ],
   "source": [
    "my_numbers = [1, 2, 3, 4, 5]\n",
    "mean, total = calculate_mean(my_numbers)\n",
    "rolling_avg = rolling_mean(my_numbers)\n",
    "print(\"The mean is:\", mean)"
   ]
  },
  {
   "cell_type": "code",
   "execution_count": 4,
   "metadata": {},
   "outputs": [
    {
     "name": "stdout",
     "output_type": "stream",
     "text": [
      "15\n"
     ]
    }
   ],
   "source": [
    "print(total)"
   ]
  },
  {
   "cell_type": "code",
   "execution_count": null,
   "metadata": {},
   "outputs": [],
   "source": [
    "def print_mean():\n",
    "    print(mean)"
   ]
  },
  {
   "cell_type": "code",
   "execution_count": null,
   "metadata": {},
   "outputs": [],
   "source": [
    "print_mean()"
   ]
  },
  {
   "cell_type": "code",
   "execution_count": null,
   "metadata": {},
   "outputs": [],
   "source": [
    "print(total)"
   ]
  },
  {
   "cell_type": "code",
   "execution_count": null,
   "metadata": {},
   "outputs": [],
   "source": [
    "calculate_mean([1, 2, 3, 4], [\"one\", \"two\", \"three\", \"four\"])"
   ]
  },
  {
   "cell_type": "code",
   "execution_count": null,
   "metadata": {},
   "outputs": [],
   "source": [
    "my_second_list = [6, 7, 8, 9, 10]\n",
    "mean_1 = calculate_mean(my_second_list)\n",
    "print(\"The mean of my second list is:\", mean_1)"
   ]
  },
  {
   "cell_type": "code",
   "execution_count": null,
   "metadata": {},
   "outputs": [],
   "source": [
    "my_third_list = [11, 12, 13, 14, 15]\n",
    "mean_2 = calculate_mean(my_third_list)\n",
    "print(\"The mean of my third list is:\", mean_2)"
   ]
  },
  {
   "cell_type": "code",
   "execution_count": null,
   "metadata": {},
   "outputs": [],
   "source": [
    "mean_1 + mean_2\n"
   ]
  },
  {
   "cell_type": "code",
   "execution_count": null,
   "metadata": {},
   "outputs": [],
   "source": [
    "def say_hello(username, language=\"EN\"):\n",
    "    if language == \"EN\":\n",
    "        print(\"Hello \"+username)\n",
    "    elif language == \"FR\":\n",
    "        print(\"Bonjour \"+username)\n",
    "    else:\n",
    "        print(\"This language is not supported: \" + language)"
   ]
  },
  {
   "cell_type": "code",
   "execution_count": null,
   "metadata": {},
   "outputs": [],
   "source": [
    "say_hello(\"John\", \"EN\", \"DE\")"
   ]
  },
  {
   "cell_type": "code",
   "execution_count": null,
   "metadata": {},
   "outputs": [],
   "source": [
    "say_hello(language=\"EN\", username=\"John\", greeting=\"Hello\", age=25, country=\"USA\", city=\"New York\")"
   ]
  },
  {
   "cell_type": "code",
   "execution_count": null,
   "metadata": {},
   "outputs": [],
   "source": [
    "say_hello(\"John\", language=\"EN\")"
   ]
  },
  {
   "cell_type": "code",
   "execution_count": 9,
   "metadata": {},
   "outputs": [
    {
     "name": "stdout",
     "output_type": "stream",
     "text": [
      "Printing model: dodecahedron\n",
      "Printing model: robot pendant\n",
      "Printing model: iphone case\n",
      "\n",
      "The following models have been printed:\n",
      "dodecahedron\n",
      "robot pendant\n",
      "iphone case\n"
     ]
    }
   ],
   "source": [
    "unprinted_designs = ['iphone case', 'robot pendant', 'dodecahedron']\n",
    "completed_models = []\n",
    "\n",
    "# Simulate printing each design until none are left.\n",
    "# Move each design to completed_models after printing.\n",
    "\n",
    "while len(unprinted_designs) != 0:\n",
    "    current_design = unprinted_designs.pop()\n",
    "\n",
    "    # Simulate creating a 3D print from the design.\n",
    "    print(\"Printing model: \" + current_design)\n",
    "    completed_models.append(current_design)\n",
    "\n",
    "# Display all completed models.\n",
    "print(\"\\nThe following models have been printed:\")\n",
    "for completed_model in completed_models:\n",
    "    print(completed_model)"
   ]
  },
  {
   "cell_type": "code",
   "execution_count": 12,
   "metadata": {},
   "outputs": [
    {
     "data": {
      "text/plain": [
       "[]"
      ]
     },
     "execution_count": 12,
     "metadata": {},
     "output_type": "execute_result"
    }
   ],
   "source": [
    "unprinted_designs"
   ]
  },
  {
   "cell_type": "code",
   "execution_count": 11,
   "metadata": {},
   "outputs": [
    {
     "data": {
      "text/plain": [
       "['dodecahedron', 'robot pendant', 'iphone case']"
      ]
     },
     "execution_count": 11,
     "metadata": {},
     "output_type": "execute_result"
    }
   ],
   "source": [
    "completed_models"
   ]
  },
  {
   "cell_type": "code",
   "execution_count": null,
   "metadata": {},
   "outputs": [
    {
     "name": "stdout",
     "output_type": "stream",
     "text": [
      "Printing model: dodecahedron\n",
      "Printing model: robot pendant\n",
      "Printing model: iphone case\n",
      "\n",
      "The following models have been printed:\n",
      "dodecahedron\n",
      "robot pendant\n",
      "iphone case\n"
     ]
    }
   ],
   "source": [
    "def print_models(unprinted_designs, completed_models):\n",
    "    \"\"\"\n",
    "    Simulate printing each design until none are left.\n",
    "    Move each design to completed_models after printing.\n",
    "    \"\"\"\n",
    "\n",
    "    while unprinted_designs:\n",
    "        current_design = unprinted_designs.pop()\n",
    "\n",
    "        # Simulate creating a 3D print from the design.\n",
    "        print(\"Printing model: \" + current_design)\n",
    "        completed_models.append(current_design)\n",
    "\n",
    "def show_completed_models(completed_models):\n",
    "    \"\"\"\n",
    "    Show all the models that were printed.\n",
    "    \"\"\"\n",
    "    print(\"\\nThe following models have been printed:\")\n",
    "    for completed_model in completed_models:\n",
    "        print(completed_model)\n",
    "\n",
    "unprinted_designs = ['iphone case', 'robot pendant', 'dodecahedron']\n",
    "completed_models = []\n",
    "\n",
    "print_models(unprinted_designs, completed_models)\n",
    "show_completed_models(completed_models)"
   ]
  },
  {
   "cell_type": "code",
   "execution_count": 14,
   "metadata": {},
   "outputs": [],
   "source": [
    "def check_arguments(*args):\n",
    "    print(f\"These are the arguments {args}\")"
   ]
  },
  {
   "cell_type": "code",
   "execution_count": 15,
   "metadata": {},
   "outputs": [
    {
     "name": "stdout",
     "output_type": "stream",
     "text": [
      "These are the arguments (3, False, 'Hello')\n"
     ]
    }
   ],
   "source": [
    "check_arguments(3, False, \"Hello\")"
   ]
  },
  {
   "cell_type": "code",
   "execution_count": 16,
   "metadata": {},
   "outputs": [],
   "source": [
    "def  check_keywordedarguments(**kwargs):\n",
    "    print(kwargs)"
   ]
  },
  {
   "cell_type": "code",
   "execution_count": 17,
   "metadata": {},
   "outputs": [
    {
     "name": "stdout",
     "output_type": "stream",
     "text": [
      "{'name': 'John', 'age': 25, 'country': 'USA', 'city': 'New York'}\n"
     ]
    }
   ],
   "source": [
    "check_keywordedarguments(name=\"John\", age=25, country=\"USA\", city=\"New York\")"
   ]
  },
  {
   "cell_type": "code",
   "execution_count": 18,
   "metadata": {},
   "outputs": [],
   "source": [
    "def check_keywordedarguments(**kwargs):\n",
    "    for key, value in kwargs.items():\n",
    "        print(key, \"->\", value)"
   ]
  },
  {
   "cell_type": "code",
   "execution_count": 19,
   "metadata": {},
   "outputs": [
    {
     "name": "stdout",
     "output_type": "stream",
     "text": [
      "name -> John\n",
      "age -> 25\n",
      "country -> USA\n",
      "city -> New York\n"
     ]
    }
   ],
   "source": [
    "check_keywordedarguments(name=\"John\", age=25, country=\"USA\", city=\"New York\")\n"
   ]
  },
  {
   "cell_type": "code",
   "execution_count": 20,
   "metadata": {},
   "outputs": [],
   "source": [
    "def check_arguments_keywordedarguments (required_arg, *args, **kwargs):\n",
    "    print(required_arg)\n",
    "    if args:\n",
    "        print(args)\n",
    "    if kwargs:\n",
    "        print(kwargs)"
   ]
  },
  {
   "cell_type": "code",
   "execution_count": 24,
   "metadata": {},
   "outputs": [
    {
     "name": "stdout",
     "output_type": "stream",
     "text": [
      "John\n"
     ]
    }
   ],
   "source": [
    "check_arguments_keywordedarguments(\"John\")"
   ]
  },
  {
   "cell_type": "code",
   "execution_count": 25,
   "metadata": {},
   "outputs": [
    {
     "name": "stdout",
     "output_type": "stream",
     "text": [
      "John\n",
      "(1, 2, 3)\n"
     ]
    }
   ],
   "source": [
    "check_arguments_keywordedarguments(\"John\", 1, 2, 3)"
   ]
  },
  {
   "cell_type": "code",
   "execution_count": 26,
   "metadata": {},
   "outputs": [
    {
     "name": "stdout",
     "output_type": "stream",
     "text": [
      "John\n",
      "(1, 2, 3)\n",
      "{'name': 'John', 'age': 25, 'country': 'USA', 'city': 'New York'}\n"
     ]
    }
   ],
   "source": [
    "check_arguments_keywordedarguments(\"John\", 1, 2, 3, name=\"John\", age=25, country=\"USA\", city=\"New York\")"
   ]
  },
  {
   "cell_type": "code",
   "execution_count": 27,
   "metadata": {},
   "outputs": [],
   "source": [
    "def check_arguments_keywordedarguments(*args,**kwargs):\n",
    "    print('*args', args)\n",
    "    print('**kwargs', kwargs)"
   ]
  },
  {
   "cell_type": "code",
   "execution_count": 28,
   "metadata": {},
   "outputs": [
    {
     "name": "stdout",
     "output_type": "stream",
     "text": [
      "*args (10, 20, 30)\n",
      "**kwargs {'name': 'John', 'surname': 'Doe'}\n"
     ]
    }
   ],
   "source": [
    "check_arguments_keywordedarguments(10,20,30,name='John',surname='Doe')"
   ]
  },
  {
   "cell_type": "code",
   "execution_count": 29,
   "metadata": {},
   "outputs": [
    {
     "ename": "SyntaxError",
     "evalue": "positional argument follows keyword argument (1248624548.py, line 1)",
     "output_type": "error",
     "traceback": [
      "  \u001b[36mCell\u001b[39m\u001b[36m \u001b[39m\u001b[32mIn[29]\u001b[39m\u001b[32m, line 1\u001b[39m\n\u001b[31m    \u001b[39m\u001b[31mcheck_arguments_keywordedarguments(10,20,30,name='John',surname='Doe', 2)\u001b[39m\n                                                                            ^\n\u001b[31mSyntaxError\u001b[39m\u001b[31m:\u001b[39m positional argument follows keyword argument\n"
     ]
    }
   ],
   "source": [
    "check_arguments_keywordedarguments(10,20,30,name='John',surname='Doe', 2)"
   ]
  },
  {
   "cell_type": "code",
   "execution_count": 30,
   "metadata": {},
   "outputs": [],
   "source": [
    "def upper_string(s):\n",
    "    return s.upper()\n",
    "\n",
    "fruit = [\"Apple\", \"Banana\", \"Pear\", \"Apricot\", \"Orange\"]\n",
    "map_object = map(upper_string, fruit)"
   ]
  },
  {
   "cell_type": "code",
   "execution_count": 32,
   "metadata": {},
   "outputs": [
    {
     "name": "stdout",
     "output_type": "stream",
     "text": [
      "['APPLE', 'BANANA', 'PEAR', 'APRICOT', 'ORANGE']\n"
     ]
    }
   ],
   "source": [
    "print(list(map_object))"
   ]
  },
  {
   "cell_type": "code",
   "execution_count": 38,
   "metadata": {},
   "outputs": [
    {
     "name": "stdout",
     "output_type": "stream",
     "text": [
      "['APPLE', 'BANANA', 'PEAR', 'APRICOT', 'ORANGE']\n"
     ]
    }
   ],
   "source": [
    "fruit = [\"Apple\", \"Banana\", \"Pear\", \"Apricot\", \"Orange\"]\n",
    "map_object = map(lambda s: s.upper(), fruit)\n",
    "\n",
    "print(list(map_object))"
   ]
  },
  {
   "cell_type": "code",
   "execution_count": 33,
   "metadata": {},
   "outputs": [],
   "source": [
    "def starts_with_A(s):\n",
    "    return s[0] == \"A\"\n",
    "\n",
    "fruit = [\"Apple\", \"Banana\", \"Pear\", \"Apricot\", \"Orange\"]\n",
    "filtered_object = filter(starts_with_A, fruit)"
   ]
  },
  {
   "cell_type": "code",
   "execution_count": 35,
   "metadata": {},
   "outputs": [
    {
     "name": "stdout",
     "output_type": "stream",
     "text": [
      "['Apple', 'Apricot']\n"
     ]
    }
   ],
   "source": [
    "print(list(filtered_object))"
   ]
  },
  {
   "cell_type": "code",
   "execution_count": 39,
   "metadata": {},
   "outputs": [
    {
     "name": "stdout",
     "output_type": "stream",
     "text": [
      "['Apple', 'Apricot']\n"
     ]
    }
   ],
   "source": [
    "fruit = [\"Apple\", \"Banana\", \"Pear\", \"Apricot\", \"Orange\"]\n",
    "filtered_object = filter(lambda s: s[0] == \"A\", fruit)\n",
    "\n",
    "print(list(filtered_object))"
   ]
  },
  {
   "cell_type": "code",
   "execution_count": 36,
   "metadata": {},
   "outputs": [
    {
     "name": "stdout",
     "output_type": "stream",
     "text": [
      "16\n"
     ]
    }
   ],
   "source": [
    "from functools import reduce\n",
    "\n",
    "def sum_numbers(first, second):\n",
    "    return first+second\n",
    "\n",
    "my_list = [1, 3, 5, 7]\n",
    "reduced_list = reduce(sum_numbers, my_list)\n",
    "\n",
    "print(reduced_list)"
   ]
  },
  {
   "cell_type": "code",
   "execution_count": 40,
   "metadata": {},
   "outputs": [],
   "source": [
    "from functools import reduce\n",
    "my_list = [1, 3, 5, 7]\n",
    "reduced_list = reduce(lambda first, second: first+second, my_list)"
   ]
  },
  {
   "cell_type": "code",
   "execution_count": 41,
   "metadata": {},
   "outputs": [
    {
     "name": "stdout",
     "output_type": "stream",
     "text": [
      "16\n"
     ]
    }
   ],
   "source": [
    "print(reduced_list)"
   ]
  },
  {
   "cell_type": "code",
   "execution_count": 44,
   "metadata": {},
   "outputs": [
    {
     "name": "stdout",
     "output_type": "stream",
     "text": [
      "[]\n"
     ]
    }
   ],
   "source": [
    "people = [\"Rick\", \"Morty\", \"Beth\", \"Jerry\", \"Snowball\"]\n",
    "\n",
    "filtered_object = filter(lambda s: len(s) < 3, people)\n",
    "mapped_object = map(lambda s: f\"Hello {s}\", filtered_object)\n",
    "\n",
    "print(list(mapped_object))"
   ]
  }
 ],
 "metadata": {
  "kernelspec": {
   "display_name": ".venv",
   "language": "python",
   "name": "python3"
  },
  "language_info": {
   "codemirror_mode": {
    "name": "ipython",
    "version": 3
   },
   "file_extension": ".py",
   "mimetype": "text/x-python",
   "name": "python",
   "nbconvert_exporter": "python",
   "pygments_lexer": "ipython3",
   "version": "3.11.6"
  }
 },
 "nbformat": 4,
 "nbformat_minor": 2
}
