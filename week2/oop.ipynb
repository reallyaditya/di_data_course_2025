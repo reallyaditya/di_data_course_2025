{
 "cells": [
  {
   "cell_type": "code",
   "execution_count": 44,
   "metadata": {},
   "outputs": [],
   "source": [
    "class Car:\n",
    "    def __init__(self, make, model, year, color):\n",
    "        self.make = make\n",
    "        self.model = model\n",
    "        self.year = year\n",
    "        self.color = color\n",
    "\n",
    "    def go_forward(self):\n",
    "        print(f\"{self.make} is going forward.\")\n",
    "    def go_backward(self):\n",
    "        print(\"The car is going backward.\")\n",
    "    def turn_left(self):\n",
    "        print(\"The car is turning left.\")\n",
    "    def turn_right(self):\n",
    "        print(\"The car is turning right.\")"
   ]
  },
  {
   "cell_type": "code",
   "execution_count": 45,
   "metadata": {},
   "outputs": [],
   "source": [
    "dad_car = Car(make=\"Toyota\", model=\"Camry\", year=2020, color=\"blue\")"
   ]
  },
  {
   "cell_type": "code",
   "execution_count": 46,
   "metadata": {},
   "outputs": [
    {
     "name": "stdout",
     "output_type": "stream",
     "text": [
      "Toyota is going forward.\n"
     ]
    }
   ],
   "source": [
    "dad_car.go_forward()"
   ]
  },
  {
   "cell_type": "code",
   "execution_count": 18,
   "metadata": {},
   "outputs": [
    {
     "name": "stdout",
     "output_type": "stream",
     "text": [
      "The car is going forward.\n"
     ]
    }
   ],
   "source": [
    "my_car.go_forward()"
   ]
  },
  {
   "cell_type": "code",
   "execution_count": 11,
   "metadata": {},
   "outputs": [],
   "source": [
    "my_car = Car(make=\"Toyota\", model=\"Corolla\", year=2020, color=\"blue\")"
   ]
  },
  {
   "cell_type": "code",
   "execution_count": 12,
   "metadata": {},
   "outputs": [
    {
     "data": {
      "text/plain": [
       "'Toyota'"
      ]
     },
     "execution_count": 12,
     "metadata": {},
     "output_type": "execute_result"
    }
   ],
   "source": [
    "my_car.make"
   ]
  },
  {
   "cell_type": "code",
   "execution_count": 5,
   "metadata": {},
   "outputs": [
    {
     "name": "stdout",
     "output_type": "stream",
     "text": [
      "The car is going forward.\n"
     ]
    }
   ],
   "source": [
    "my_car.go_forward()"
   ]
  },
  {
   "cell_type": "code",
   "execution_count": 47,
   "metadata": {},
   "outputs": [],
   "source": [
    "neighbor_car = Car(make=\"Honda\", model=\"Civic\", year=2018, color=\"red\")\n",
    "mom_car = Car(make=\"Ford\", model=\"Fiesta\", year=2015, color=\"black\")"
   ]
  },
  {
   "cell_type": "code",
   "execution_count": 50,
   "metadata": {},
   "outputs": [
    {
     "name": "stdout",
     "output_type": "stream",
     "text": [
      "The car is going backward.\n"
     ]
    }
   ],
   "source": [
    "neighbor_car.go_backward()"
   ]
  },
  {
   "cell_type": "code",
   "execution_count": 48,
   "metadata": {},
   "outputs": [
    {
     "name": "stdout",
     "output_type": "stream",
     "text": [
      "Ford is going forward.\n"
     ]
    }
   ],
   "source": [
    "mom_car.go_forward()"
   ]
  },
  {
   "cell_type": "code",
   "execution_count": 58,
   "metadata": {},
   "outputs": [],
   "source": [
    "class Dog():\n",
    "    # Initializer / Instance Attributes\n",
    "    def __init__(self, name_of_the_dog):\n",
    "        print(\"A new dog has been initialized !\")\n",
    "        print(\"His name is\", name_of_the_dog)\n",
    "        self.name = name_of_the_dog\n",
    "\n",
    "    def bark(self):\n",
    "        print(f\"{self.name} barks ! WAF\")\n",
    "\n",
    "    def walk(self, number_of_meters):\n",
    "        print(f\"{self.name} walked {number_of_meters} meters\")\n",
    "\n",
    "    def rename(self, new_name):\n",
    "        self.name = new_name"
   ]
  },
  {
   "cell_type": "code",
   "execution_count": 59,
   "metadata": {},
   "outputs": [
    {
     "name": "stdout",
     "output_type": "stream",
     "text": [
      "A new dog has been initialized !\n",
      "His name is Rex\n"
     ]
    }
   ],
   "source": [
    "my_dog = Dog(\"Rex\")"
   ]
  },
  {
   "cell_type": "code",
   "execution_count": 56,
   "metadata": {},
   "outputs": [
    {
     "name": "stdout",
     "output_type": "stream",
     "text": [
      "Rex barks ! WAF\n"
     ]
    }
   ],
   "source": [
    "my_dog.bark()"
   ]
  },
  {
   "cell_type": "code",
   "execution_count": 57,
   "metadata": {},
   "outputs": [
    {
     "name": "stdout",
     "output_type": "stream",
     "text": [
      "Rex walked 50 meters\n"
     ]
    }
   ],
   "source": [
    "my_dog.walk(50)"
   ]
  },
  {
   "cell_type": "code",
   "execution_count": 62,
   "metadata": {},
   "outputs": [
    {
     "data": {
      "text/plain": [
       "'Rexy'"
      ]
     },
     "execution_count": 62,
     "metadata": {},
     "output_type": "execute_result"
    }
   ],
   "source": [
    "my_dog.name"
   ]
  },
  {
   "cell_type": "code",
   "execution_count": 61,
   "metadata": {},
   "outputs": [],
   "source": [
    "my_dog.rename(\"Rexy\")"
   ]
  },
  {
   "cell_type": "code",
   "execution_count": 63,
   "metadata": {},
   "outputs": [
    {
     "name": "stdout",
     "output_type": "stream",
     "text": [
      "Apple\n",
      "I am a computer, my name is Mark\n",
      "<__main__.Computer object at 0x108445ed0>\n",
      "I am a computer, my name is Mark\n",
      "<__main__.Computer object at 0x108445ed0>\n"
     ]
    }
   ],
   "source": [
    "class Computer():\n",
    "\n",
    "    def description(self, name):\n",
    "        \"\"\"\n",
    "        This is a totally useless function\n",
    "        \"\"\"\n",
    "        print(\"I am a computer, my name is\", name)\n",
    "        #Analyse the line below\n",
    "        print(self)\n",
    "\n",
    "mac_computer = Computer()\n",
    "mac_computer.brand = \"Apple\"\n",
    "print(mac_computer.brand)\n",
    "\n",
    "dell_computer = Computer()\n",
    "\n",
    "Computer.description(dell_computer, \"Mark\")\n",
    "# IS THE SAME AS:\n",
    "dell_computer.description(\"Mark\")"
   ]
  },
  {
   "cell_type": "code",
   "execution_count": 65,
   "metadata": {},
   "outputs": [
    {
     "name": "stdout",
     "output_type": "stream",
     "text": [
      "I am a computer, my name is MacBook Pro\n",
      "<__main__.Computer object at 0x108463490>\n"
     ]
    }
   ],
   "source": [
    "mac_computer.description(\"MacBook Pro\")"
   ]
  },
  {
   "cell_type": "code",
   "execution_count": 69,
   "metadata": {},
   "outputs": [
    {
     "name": "stdout",
     "output_type": "stream",
     "text": [
      "I am a computer, my name is Mark\n",
      "<__main__.Computer object at 0x108463490>\n"
     ]
    }
   ],
   "source": [
    "Computer.description(mac_computer, name=\"Mark\")"
   ]
  }
 ],
 "metadata": {
  "kernelspec": {
   "display_name": ".venv",
   "language": "python",
   "name": "python3"
  },
  "language_info": {
   "codemirror_mode": {
    "name": "ipython",
    "version": 3
   },
   "file_extension": ".py",
   "mimetype": "text/x-python",
   "name": "python",
   "nbconvert_exporter": "python",
   "pygments_lexer": "ipython3",
   "version": "3.11.6"
  }
 },
 "nbformat": 4,
 "nbformat_minor": 2
}
